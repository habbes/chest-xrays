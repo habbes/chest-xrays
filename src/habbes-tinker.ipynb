{
 "cells": [
  {
   "cell_type": "code",
   "execution_count": 25,
   "metadata": {},
   "outputs": [
    {
     "data": {
      "text/plain": [
       "<module 'predict' from '/Users/habbes/code/class/bd4h/chexpert/src/predict.py'>"
      ]
     },
     "execution_count": 25,
     "metadata": {},
     "output_type": "execute_result"
    }
   ],
   "source": [
    "import pandas as pd\n",
    "import numpy as np\n",
    "import time\n",
    "import torch\n",
    "import torch.nn as nn\n",
    "import torch.optim as optim\n",
    "from torch.optim import lr_scheduler\n",
    "from torch.utils.data import Dataset, DataLoader\n",
    "from torchvision import transforms, models, utils\n",
    "import matplotlib.pyplot as plt\n",
    "from skimage import io, transform\n",
    "from PIL import Image\n",
    "import sklearn.metrics as mt\n",
    "import os\n",
    "from os import path\n",
    "import copy\n",
    "from importlib import reload\n",
    "import itertools\n",
    "import trainer as tr\n",
    "import dataset as ds\n",
    "import predict as pr\n",
    "reload(tr)\n",
    "reload(ds)\n",
    "reload(pr)\n",
    "# %matplotlib inline\n"
   ]
  },
  {
   "cell_type": "code",
   "execution_count": 26,
   "metadata": {
    "collapsed": true
   },
   "outputs": [],
   "source": [
    "os.chdir('..')"
   ]
  },
  {
   "cell_type": "code",
   "execution_count": 27,
   "metadata": {},
   "outputs": [
    {
     "name": "stdout",
     "output_type": "stream",
     "text": [
      "Training using options arch densenet finetune False\n"
     ]
    },
    {
     "name": "stderr",
     "output_type": "stream",
     "text": [
      "/Users/habbes/anaconda3/lib/python3.6/site-packages/torchvision/models/densenet.py:212: UserWarning: nn.init.kaiming_normal is now deprecated in favor of nn.init.kaiming_normal_.\n",
      "  nn.init.kaiming_normal(m.weight.data)\n"
     ]
    }
   ],
   "source": [
    "trainer = tr.Trainer(max_train_samples=1, value_for_uncertain=0.0)"
   ]
  },
  {
   "cell_type": "code",
   "execution_count": 28,
   "metadata": {},
   "outputs": [],
   "source": [
    "ts = trainer.dataloaders['train'].dataset"
   ]
  },
  {
   "cell_type": "code",
   "execution_count": 34,
   "metadata": {},
   "outputs": [
    {
     "data": {
      "text/plain": [
       "(tensor([[[ 0.0056,  0.0056, -0.0116,  ..., -0.3027, -0.2684, -0.2513],\n",
       "          [ 0.0569,  0.0227, -0.0116,  ..., -0.3027, -0.2856, -0.2856],\n",
       "          [ 0.1254,  0.0569, -0.0116,  ..., -0.3027, -0.3198, -0.3369],\n",
       "          ...,\n",
       "          [-1.4329, -1.4329, -1.4329,  ..., -1.0562, -1.0733, -1.1247],\n",
       "          [-1.4500, -1.4500, -1.4158,  ..., -1.0562, -1.0904, -1.1418],\n",
       "          [-1.4500, -1.4500, -1.4158,  ..., -1.0562, -1.1075, -1.1589]],\n",
       " \n",
       "         [[ 0.1352,  0.1352,  0.1176,  ..., -0.1800, -0.1450, -0.1275],\n",
       "          [ 0.1877,  0.1527,  0.1176,  ..., -0.1800, -0.1625, -0.1625],\n",
       "          [ 0.2577,  0.1877,  0.1176,  ..., -0.1800, -0.1975, -0.2150],\n",
       "          ...,\n",
       "          [-1.3354, -1.3354, -1.3354,  ..., -0.9503, -0.9678, -1.0203],\n",
       "          [-1.3529, -1.3529, -1.3179,  ..., -0.9503, -0.9853, -1.0378],\n",
       "          [-1.3529, -1.3529, -1.3179,  ..., -0.9503, -1.0028, -1.0553]],\n",
       " \n",
       "         [[ 0.3568,  0.3568,  0.3393,  ...,  0.0431,  0.0779,  0.0953],\n",
       "          [ 0.4091,  0.3742,  0.3393,  ...,  0.0431,  0.0605,  0.0605],\n",
       "          [ 0.4788,  0.4091,  0.3393,  ...,  0.0431,  0.0256,  0.0082],\n",
       "          ...,\n",
       "          [-1.1073, -1.1073, -1.1073,  ..., -0.7238, -0.7413, -0.7936],\n",
       "          [-1.1247, -1.1247, -1.0898,  ..., -0.7238, -0.7587, -0.8110],\n",
       "          [-1.1247, -1.1247, -1.0898,  ..., -0.7238, -0.7761, -0.8284]]]),\n",
       " tensor([0., 0., 0., 0., 0.]))"
      ]
     },
     "execution_count": 34,
     "metadata": {},
     "output_type": "execute_result"
    }
   ],
   "source": [
    "ts[2]"
   ]
  },
  {
   "cell_type": "code",
   "execution_count": 30,
   "metadata": {},
   "outputs": [
    {
     "name": "stdout",
     "output_type": "stream",
     "text": [
      "Training using options arch densenet finetune False\n"
     ]
    },
    {
     "name": "stderr",
     "output_type": "stream",
     "text": [
      "/Users/habbes/anaconda3/lib/python3.6/site-packages/torchvision/models/densenet.py:212: UserWarning: nn.init.kaiming_normal is now deprecated in favor of nn.init.kaiming_normal_.\n",
      "  nn.init.kaiming_normal(m.weight.data)\n"
     ]
    }
   ],
   "source": [
    "trainer2 = tr.Trainer(max_train_samples=1, value_for_uncertain=1.0)\n",
    "ts2 = trainer2.dataloaders['train'].dataset"
   ]
  },
  {
   "cell_type": "code",
   "execution_count": 35,
   "metadata": {},
   "outputs": [
    {
     "data": {
      "text/plain": [
       "(tensor([[[-2.0323, -1.6042, -0.9363,  ...,  2.0092,  1.9920,  1.9920],\n",
       "          [-2.0323, -1.5870, -0.9020,  ...,  2.0263,  2.0092,  2.0092],\n",
       "          [-2.0494, -1.5528, -0.8164,  ...,  2.0434,  2.0434,  2.0434],\n",
       "          ...,\n",
       "          [-0.9363, -0.9877, -1.0733,  ..., -0.8849, -0.9534, -0.9877],\n",
       "          [-1.0390, -1.0733, -1.1075,  ..., -0.8678, -0.9192, -0.9363],\n",
       "          [-1.0904, -1.1075, -1.1247,  ..., -0.8678, -0.9020, -0.9192]],\n",
       " \n",
       "         [[-1.9482, -1.5105, -0.8277,  ...,  2.1835,  2.1660,  2.1660],\n",
       "          [-1.9482, -1.4930, -0.7927,  ...,  2.2010,  2.1835,  2.1835],\n",
       "          [-1.9657, -1.4580, -0.7052,  ...,  2.2185,  2.2185,  2.2185],\n",
       "          ...,\n",
       "          [-0.8277, -0.8803, -0.9678,  ..., -0.7752, -0.8452, -0.8803],\n",
       "          [-0.9328, -0.9678, -1.0028,  ..., -0.7577, -0.8102, -0.8277],\n",
       "          [-0.9853, -1.0028, -1.0203,  ..., -0.7577, -0.7927, -0.8102]],\n",
       " \n",
       "         [[-1.7173, -1.2816, -0.6018,  ...,  2.3960,  2.3786,  2.3786],\n",
       "          [-1.7173, -1.2641, -0.5670,  ...,  2.4134,  2.3960,  2.3960],\n",
       "          [-1.7347, -1.2293, -0.4798,  ...,  2.4308,  2.4308,  2.4308],\n",
       "          ...,\n",
       "          [-0.6018, -0.6541, -0.7413,  ..., -0.5495, -0.6193, -0.6541],\n",
       "          [-0.7064, -0.7413, -0.7761,  ..., -0.5321, -0.5844, -0.6018],\n",
       "          [-0.7587, -0.7761, -0.7936,  ..., -0.5321, -0.5670, -0.5844]]]),\n",
       " tensor([0., 0., 1., 0., 0.]))"
      ]
     },
     "execution_count": 35,
     "metadata": {},
     "output_type": "execute_result"
    }
   ],
   "source": [
    "ts2[2]"
   ]
  },
  {
   "cell_type": "code",
   "execution_count": 36,
   "metadata": {
    "collapsed": true
   },
   "outputs": [],
   "source": [
    "tdf = pd.read_csv(ds.TRAIN_CSV)"
   ]
  },
  {
   "cell_type": "code",
   "execution_count": 37,
   "metadata": {
    "collapsed": true
   },
   "outputs": [],
   "source": [
    "vdf = pd.read_csv(ds.VALID_CSV)"
   ]
  },
  {
   "cell_type": "code",
   "execution_count": 46,
   "metadata": {},
   "outputs": [
    {
     "data": {
      "text/plain": [
       "'CheXpert-v1.0-small/train/patient00063/study5/view1_frontal.jpg'"
      ]
     },
     "execution_count": 46,
     "metadata": {},
     "output_type": "execute_result"
    }
   ],
   "source": [
    "tdf['Path'][200]"
   ]
  },
  {
   "cell_type": "code",
   "execution_count": 42,
   "metadata": {},
   "outputs": [
    {
     "ename": "KeyError",
     "evalue": "100",
     "output_type": "error",
     "traceback": [
      "\u001b[0;31m---------------------------------------------------------------------------\u001b[0m",
      "\u001b[0;31mKeyError\u001b[0m                                  Traceback (most recent call last)",
      "\u001b[0;32m<ipython-input-42-9a42cbcd2650>\u001b[0m in \u001b[0;36m<module>\u001b[0;34m()\u001b[0m\n\u001b[0;32m----> 1\u001b[0;31m \u001b[0mvdf\u001b[0m\u001b[0;34m.\u001b[0m\u001b[0mhead\u001b[0m\u001b[0;34m(\u001b[0m\u001b[0;34m)\u001b[0m\u001b[0;34m[\u001b[0m\u001b[0;34m'Path'\u001b[0m\u001b[0;34m]\u001b[0m\u001b[0;34m[\u001b[0m\u001b[0;36m100\u001b[0m\u001b[0;34m]\u001b[0m\u001b[0;34m\u001b[0m\u001b[0m\n\u001b[0m",
      "\u001b[0;32m~/anaconda3/lib/python3.6/site-packages/pandas/core/series.py\u001b[0m in \u001b[0;36m__getitem__\u001b[0;34m(self, key)\u001b[0m\n\u001b[1;32m    765\u001b[0m         \u001b[0mkey\u001b[0m \u001b[0;34m=\u001b[0m \u001b[0mcom\u001b[0m\u001b[0;34m.\u001b[0m\u001b[0m_apply_if_callable\u001b[0m\u001b[0;34m(\u001b[0m\u001b[0mkey\u001b[0m\u001b[0;34m,\u001b[0m \u001b[0mself\u001b[0m\u001b[0;34m)\u001b[0m\u001b[0;34m\u001b[0m\u001b[0m\n\u001b[1;32m    766\u001b[0m         \u001b[0;32mtry\u001b[0m\u001b[0;34m:\u001b[0m\u001b[0;34m\u001b[0m\u001b[0m\n\u001b[0;32m--> 767\u001b[0;31m             \u001b[0mresult\u001b[0m \u001b[0;34m=\u001b[0m \u001b[0mself\u001b[0m\u001b[0;34m.\u001b[0m\u001b[0mindex\u001b[0m\u001b[0;34m.\u001b[0m\u001b[0mget_value\u001b[0m\u001b[0;34m(\u001b[0m\u001b[0mself\u001b[0m\u001b[0;34m,\u001b[0m \u001b[0mkey\u001b[0m\u001b[0;34m)\u001b[0m\u001b[0;34m\u001b[0m\u001b[0m\n\u001b[0m\u001b[1;32m    768\u001b[0m \u001b[0;34m\u001b[0m\u001b[0m\n\u001b[1;32m    769\u001b[0m             \u001b[0;32mif\u001b[0m \u001b[0;32mnot\u001b[0m \u001b[0mis_scalar\u001b[0m\u001b[0;34m(\u001b[0m\u001b[0mresult\u001b[0m\u001b[0;34m)\u001b[0m\u001b[0;34m:\u001b[0m\u001b[0;34m\u001b[0m\u001b[0m\n",
      "\u001b[0;32m~/anaconda3/lib/python3.6/site-packages/pandas/core/indexes/base.py\u001b[0m in \u001b[0;36mget_value\u001b[0;34m(self, series, key)\u001b[0m\n\u001b[1;32m   3116\u001b[0m         \u001b[0;32mtry\u001b[0m\u001b[0;34m:\u001b[0m\u001b[0;34m\u001b[0m\u001b[0m\n\u001b[1;32m   3117\u001b[0m             return self._engine.get_value(s, k,\n\u001b[0;32m-> 3118\u001b[0;31m                                           tz=getattr(series.dtype, 'tz', None))\n\u001b[0m\u001b[1;32m   3119\u001b[0m         \u001b[0;32mexcept\u001b[0m \u001b[0mKeyError\u001b[0m \u001b[0;32mas\u001b[0m \u001b[0me1\u001b[0m\u001b[0;34m:\u001b[0m\u001b[0;34m\u001b[0m\u001b[0m\n\u001b[1;32m   3120\u001b[0m             \u001b[0;32mif\u001b[0m \u001b[0mlen\u001b[0m\u001b[0;34m(\u001b[0m\u001b[0mself\u001b[0m\u001b[0;34m)\u001b[0m \u001b[0;34m>\u001b[0m \u001b[0;36m0\u001b[0m \u001b[0;32mand\u001b[0m \u001b[0mself\u001b[0m\u001b[0;34m.\u001b[0m\u001b[0minferred_type\u001b[0m \u001b[0;32min\u001b[0m \u001b[0;34m[\u001b[0m\u001b[0;34m'integer'\u001b[0m\u001b[0;34m,\u001b[0m \u001b[0;34m'boolean'\u001b[0m\u001b[0;34m]\u001b[0m\u001b[0;34m:\u001b[0m\u001b[0;34m\u001b[0m\u001b[0m\n",
      "\u001b[0;32mpandas/_libs/index.pyx\u001b[0m in \u001b[0;36mpandas._libs.index.IndexEngine.get_value\u001b[0;34m()\u001b[0m\n",
      "\u001b[0;32mpandas/_libs/index.pyx\u001b[0m in \u001b[0;36mpandas._libs.index.IndexEngine.get_value\u001b[0;34m()\u001b[0m\n",
      "\u001b[0;32mpandas/_libs/index.pyx\u001b[0m in \u001b[0;36mpandas._libs.index.IndexEngine.get_loc\u001b[0;34m()\u001b[0m\n",
      "\u001b[0;32mpandas/_libs/hashtable_class_helper.pxi\u001b[0m in \u001b[0;36mpandas._libs.hashtable.Int64HashTable.get_item\u001b[0;34m()\u001b[0m\n",
      "\u001b[0;32mpandas/_libs/hashtable_class_helper.pxi\u001b[0m in \u001b[0;36mpandas._libs.hashtable.Int64HashTable.get_item\u001b[0;34m()\u001b[0m\n",
      "\u001b[0;31mKeyError\u001b[0m: 100"
     ]
    }
   ],
   "source": [
    "vdf.head()['Path'][100]"
   ]
  },
  {
   "cell_type": "code",
   "execution_count": null,
   "metadata": {
    "collapsed": true
   },
   "outputs": [],
   "source": []
  }
 ],
 "metadata": {
  "kernelspec": {
   "display_name": "Python 3",
   "language": "python",
   "name": "python3"
  },
  "language_info": {
   "codemirror_mode": {
    "name": "ipython",
    "version": 3
   },
   "file_extension": ".py",
   "mimetype": "text/x-python",
   "name": "python",
   "nbconvert_exporter": "python",
   "pygments_lexer": "ipython3",
   "version": "3.6.2"
  }
 },
 "nbformat": 4,
 "nbformat_minor": 2
}
