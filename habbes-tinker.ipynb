{
 "cells": [
  {
   "cell_type": "code",
   "execution_count": 93,
   "metadata": {},
   "outputs": [
    {
     "data": {
      "text/plain": [
       "<module 'chexpert' from '/Users/habbes/code/class/bd4h/chexpert/chexpert.py'>"
      ]
     },
     "execution_count": 93,
     "metadata": {},
     "output_type": "execute_result"
    }
   ],
   "source": [
    "import pandas as pd\n",
    "import numpy as np\n",
    "import time\n",
    "import torch\n",
    "import torch.nn as nn\n",
    "import torch.optim as optim\n",
    "from torch.optim import lr_scheduler\n",
    "from torch.utils.data import Dataset, DataLoader\n",
    "from torchvision import transforms, models, utils\n",
    "import matplotlib.pyplot as plt\n",
    "from skimage import io, transform\n",
    "from PIL import Image\n",
    "import sklearn.metrics as mt\n",
    "from os import path\n",
    "import copy\n",
    "import chexpert as chx\n",
    "from importlib import reload\n",
    "import itertools\n",
    "reload(chx)\n",
    "# %matplotlib inline"
   ]
  },
  {
   "cell_type": "code",
   "execution_count": 71,
   "metadata": {},
   "outputs": [
    {
     "name": "stderr",
     "output_type": "stream",
     "text": [
      "/Users/habbes/anaconda3/lib/python3.6/site-packages/torchvision/models/densenet.py:212: UserWarning: nn.init.kaiming_normal is now deprecated in favor of nn.init.kaiming_normal_.\n",
      "  nn.init.kaiming_normal(m.weight.data)\n"
     ]
    }
   ],
   "source": [
    "trainer = chx.Trainer(max_train_samples=1, epochs=1)"
   ]
  },
  {
   "cell_type": "code",
   "execution_count": 72,
   "metadata": {},
   "outputs": [
    {
     "name": "stdout",
     "output_type": "stream",
     "text": [
      "Epoch 0/0\n",
      "----------\n",
      "train Loss: 45.0914\n",
      "val Loss: 0.6324\n",
      "\n",
      "Training complete in 1m 23s\n",
      "Least loss:  inf\n"
     ]
    },
    {
     "data": {
      "text/plain": [
       "{'losses': {'train': [45.09137725830078], 'val': [0.6323753610635415]},\n",
       " 'model': DenseNet(\n",
       "   (features): Sequential(\n",
       "     (conv0): Conv2d(3, 64, kernel_size=(7, 7), stride=(2, 2), padding=(3, 3), bias=False)\n",
       "     (norm0): BatchNorm2d(64, eps=1e-05, momentum=0.1, affine=True, track_running_stats=True)\n",
       "     (relu0): ReLU(inplace)\n",
       "     (pool0): MaxPool2d(kernel_size=3, stride=2, padding=1, dilation=1, ceil_mode=False)\n",
       "     (denseblock1): _DenseBlock(\n",
       "       (denselayer1): _DenseLayer(\n",
       "         (norm1): BatchNorm2d(64, eps=1e-05, momentum=0.1, affine=True, track_running_stats=True)\n",
       "         (relu1): ReLU(inplace)\n",
       "         (conv1): Conv2d(64, 128, kernel_size=(1, 1), stride=(1, 1), bias=False)\n",
       "         (norm2): BatchNorm2d(128, eps=1e-05, momentum=0.1, affine=True, track_running_stats=True)\n",
       "         (relu2): ReLU(inplace)\n",
       "         (conv2): Conv2d(128, 32, kernel_size=(3, 3), stride=(1, 1), padding=(1, 1), bias=False)\n",
       "       )\n",
       "       (denselayer2): _DenseLayer(\n",
       "         (norm1): BatchNorm2d(96, eps=1e-05, momentum=0.1, affine=True, track_running_stats=True)\n",
       "         (relu1): ReLU(inplace)\n",
       "         (conv1): Conv2d(96, 128, kernel_size=(1, 1), stride=(1, 1), bias=False)\n",
       "         (norm2): BatchNorm2d(128, eps=1e-05, momentum=0.1, affine=True, track_running_stats=True)\n",
       "         (relu2): ReLU(inplace)\n",
       "         (conv2): Conv2d(128, 32, kernel_size=(3, 3), stride=(1, 1), padding=(1, 1), bias=False)\n",
       "       )\n",
       "       (denselayer3): _DenseLayer(\n",
       "         (norm1): BatchNorm2d(128, eps=1e-05, momentum=0.1, affine=True, track_running_stats=True)\n",
       "         (relu1): ReLU(inplace)\n",
       "         (conv1): Conv2d(128, 128, kernel_size=(1, 1), stride=(1, 1), bias=False)\n",
       "         (norm2): BatchNorm2d(128, eps=1e-05, momentum=0.1, affine=True, track_running_stats=True)\n",
       "         (relu2): ReLU(inplace)\n",
       "         (conv2): Conv2d(128, 32, kernel_size=(3, 3), stride=(1, 1), padding=(1, 1), bias=False)\n",
       "       )\n",
       "       (denselayer4): _DenseLayer(\n",
       "         (norm1): BatchNorm2d(160, eps=1e-05, momentum=0.1, affine=True, track_running_stats=True)\n",
       "         (relu1): ReLU(inplace)\n",
       "         (conv1): Conv2d(160, 128, kernel_size=(1, 1), stride=(1, 1), bias=False)\n",
       "         (norm2): BatchNorm2d(128, eps=1e-05, momentum=0.1, affine=True, track_running_stats=True)\n",
       "         (relu2): ReLU(inplace)\n",
       "         (conv2): Conv2d(128, 32, kernel_size=(3, 3), stride=(1, 1), padding=(1, 1), bias=False)\n",
       "       )\n",
       "       (denselayer5): _DenseLayer(\n",
       "         (norm1): BatchNorm2d(192, eps=1e-05, momentum=0.1, affine=True, track_running_stats=True)\n",
       "         (relu1): ReLU(inplace)\n",
       "         (conv1): Conv2d(192, 128, kernel_size=(1, 1), stride=(1, 1), bias=False)\n",
       "         (norm2): BatchNorm2d(128, eps=1e-05, momentum=0.1, affine=True, track_running_stats=True)\n",
       "         (relu2): ReLU(inplace)\n",
       "         (conv2): Conv2d(128, 32, kernel_size=(3, 3), stride=(1, 1), padding=(1, 1), bias=False)\n",
       "       )\n",
       "       (denselayer6): _DenseLayer(\n",
       "         (norm1): BatchNorm2d(224, eps=1e-05, momentum=0.1, affine=True, track_running_stats=True)\n",
       "         (relu1): ReLU(inplace)\n",
       "         (conv1): Conv2d(224, 128, kernel_size=(1, 1), stride=(1, 1), bias=False)\n",
       "         (norm2): BatchNorm2d(128, eps=1e-05, momentum=0.1, affine=True, track_running_stats=True)\n",
       "         (relu2): ReLU(inplace)\n",
       "         (conv2): Conv2d(128, 32, kernel_size=(3, 3), stride=(1, 1), padding=(1, 1), bias=False)\n",
       "       )\n",
       "     )\n",
       "     (transition1): _Transition(\n",
       "       (norm): BatchNorm2d(256, eps=1e-05, momentum=0.1, affine=True, track_running_stats=True)\n",
       "       (relu): ReLU(inplace)\n",
       "       (conv): Conv2d(256, 128, kernel_size=(1, 1), stride=(1, 1), bias=False)\n",
       "       (pool): AvgPool2d(kernel_size=2, stride=2, padding=0)\n",
       "     )\n",
       "     (denseblock2): _DenseBlock(\n",
       "       (denselayer1): _DenseLayer(\n",
       "         (norm1): BatchNorm2d(128, eps=1e-05, momentum=0.1, affine=True, track_running_stats=True)\n",
       "         (relu1): ReLU(inplace)\n",
       "         (conv1): Conv2d(128, 128, kernel_size=(1, 1), stride=(1, 1), bias=False)\n",
       "         (norm2): BatchNorm2d(128, eps=1e-05, momentum=0.1, affine=True, track_running_stats=True)\n",
       "         (relu2): ReLU(inplace)\n",
       "         (conv2): Conv2d(128, 32, kernel_size=(3, 3), stride=(1, 1), padding=(1, 1), bias=False)\n",
       "       )\n",
       "       (denselayer2): _DenseLayer(\n",
       "         (norm1): BatchNorm2d(160, eps=1e-05, momentum=0.1, affine=True, track_running_stats=True)\n",
       "         (relu1): ReLU(inplace)\n",
       "         (conv1): Conv2d(160, 128, kernel_size=(1, 1), stride=(1, 1), bias=False)\n",
       "         (norm2): BatchNorm2d(128, eps=1e-05, momentum=0.1, affine=True, track_running_stats=True)\n",
       "         (relu2): ReLU(inplace)\n",
       "         (conv2): Conv2d(128, 32, kernel_size=(3, 3), stride=(1, 1), padding=(1, 1), bias=False)\n",
       "       )\n",
       "       (denselayer3): _DenseLayer(\n",
       "         (norm1): BatchNorm2d(192, eps=1e-05, momentum=0.1, affine=True, track_running_stats=True)\n",
       "         (relu1): ReLU(inplace)\n",
       "         (conv1): Conv2d(192, 128, kernel_size=(1, 1), stride=(1, 1), bias=False)\n",
       "         (norm2): BatchNorm2d(128, eps=1e-05, momentum=0.1, affine=True, track_running_stats=True)\n",
       "         (relu2): ReLU(inplace)\n",
       "         (conv2): Conv2d(128, 32, kernel_size=(3, 3), stride=(1, 1), padding=(1, 1), bias=False)\n",
       "       )\n",
       "       (denselayer4): _DenseLayer(\n",
       "         (norm1): BatchNorm2d(224, eps=1e-05, momentum=0.1, affine=True, track_running_stats=True)\n",
       "         (relu1): ReLU(inplace)\n",
       "         (conv1): Conv2d(224, 128, kernel_size=(1, 1), stride=(1, 1), bias=False)\n",
       "         (norm2): BatchNorm2d(128, eps=1e-05, momentum=0.1, affine=True, track_running_stats=True)\n",
       "         (relu2): ReLU(inplace)\n",
       "         (conv2): Conv2d(128, 32, kernel_size=(3, 3), stride=(1, 1), padding=(1, 1), bias=False)\n",
       "       )\n",
       "       (denselayer5): _DenseLayer(\n",
       "         (norm1): BatchNorm2d(256, eps=1e-05, momentum=0.1, affine=True, track_running_stats=True)\n",
       "         (relu1): ReLU(inplace)\n",
       "         (conv1): Conv2d(256, 128, kernel_size=(1, 1), stride=(1, 1), bias=False)\n",
       "         (norm2): BatchNorm2d(128, eps=1e-05, momentum=0.1, affine=True, track_running_stats=True)\n",
       "         (relu2): ReLU(inplace)\n",
       "         (conv2): Conv2d(128, 32, kernel_size=(3, 3), stride=(1, 1), padding=(1, 1), bias=False)\n",
       "       )\n",
       "       (denselayer6): _DenseLayer(\n",
       "         (norm1): BatchNorm2d(288, eps=1e-05, momentum=0.1, affine=True, track_running_stats=True)\n",
       "         (relu1): ReLU(inplace)\n",
       "         (conv1): Conv2d(288, 128, kernel_size=(1, 1), stride=(1, 1), bias=False)\n",
       "         (norm2): BatchNorm2d(128, eps=1e-05, momentum=0.1, affine=True, track_running_stats=True)\n",
       "         (relu2): ReLU(inplace)\n",
       "         (conv2): Conv2d(128, 32, kernel_size=(3, 3), stride=(1, 1), padding=(1, 1), bias=False)\n",
       "       )\n",
       "       (denselayer7): _DenseLayer(\n",
       "         (norm1): BatchNorm2d(320, eps=1e-05, momentum=0.1, affine=True, track_running_stats=True)\n",
       "         (relu1): ReLU(inplace)\n",
       "         (conv1): Conv2d(320, 128, kernel_size=(1, 1), stride=(1, 1), bias=False)\n",
       "         (norm2): BatchNorm2d(128, eps=1e-05, momentum=0.1, affine=True, track_running_stats=True)\n",
       "         (relu2): ReLU(inplace)\n",
       "         (conv2): Conv2d(128, 32, kernel_size=(3, 3), stride=(1, 1), padding=(1, 1), bias=False)\n",
       "       )\n",
       "       (denselayer8): _DenseLayer(\n",
       "         (norm1): BatchNorm2d(352, eps=1e-05, momentum=0.1, affine=True, track_running_stats=True)\n",
       "         (relu1): ReLU(inplace)\n",
       "         (conv1): Conv2d(352, 128, kernel_size=(1, 1), stride=(1, 1), bias=False)\n",
       "         (norm2): BatchNorm2d(128, eps=1e-05, momentum=0.1, affine=True, track_running_stats=True)\n",
       "         (relu2): ReLU(inplace)\n",
       "         (conv2): Conv2d(128, 32, kernel_size=(3, 3), stride=(1, 1), padding=(1, 1), bias=False)\n",
       "       )\n",
       "       (denselayer9): _DenseLayer(\n",
       "         (norm1): BatchNorm2d(384, eps=1e-05, momentum=0.1, affine=True, track_running_stats=True)\n",
       "         (relu1): ReLU(inplace)\n",
       "         (conv1): Conv2d(384, 128, kernel_size=(1, 1), stride=(1, 1), bias=False)\n",
       "         (norm2): BatchNorm2d(128, eps=1e-05, momentum=0.1, affine=True, track_running_stats=True)\n",
       "         (relu2): ReLU(inplace)\n",
       "         (conv2): Conv2d(128, 32, kernel_size=(3, 3), stride=(1, 1), padding=(1, 1), bias=False)\n",
       "       )\n",
       "       (denselayer10): _DenseLayer(\n",
       "         (norm1): BatchNorm2d(416, eps=1e-05, momentum=0.1, affine=True, track_running_stats=True)\n",
       "         (relu1): ReLU(inplace)\n",
       "         (conv1): Conv2d(416, 128, kernel_size=(1, 1), stride=(1, 1), bias=False)\n",
       "         (norm2): BatchNorm2d(128, eps=1e-05, momentum=0.1, affine=True, track_running_stats=True)\n",
       "         (relu2): ReLU(inplace)\n",
       "         (conv2): Conv2d(128, 32, kernel_size=(3, 3), stride=(1, 1), padding=(1, 1), bias=False)\n",
       "       )\n",
       "       (denselayer11): _DenseLayer(\n",
       "         (norm1): BatchNorm2d(448, eps=1e-05, momentum=0.1, affine=True, track_running_stats=True)\n",
       "         (relu1): ReLU(inplace)\n",
       "         (conv1): Conv2d(448, 128, kernel_size=(1, 1), stride=(1, 1), bias=False)\n",
       "         (norm2): BatchNorm2d(128, eps=1e-05, momentum=0.1, affine=True, track_running_stats=True)\n",
       "         (relu2): ReLU(inplace)\n",
       "         (conv2): Conv2d(128, 32, kernel_size=(3, 3), stride=(1, 1), padding=(1, 1), bias=False)\n",
       "       )\n",
       "       (denselayer12): _DenseLayer(\n",
       "         (norm1): BatchNorm2d(480, eps=1e-05, momentum=0.1, affine=True, track_running_stats=True)\n",
       "         (relu1): ReLU(inplace)\n",
       "         (conv1): Conv2d(480, 128, kernel_size=(1, 1), stride=(1, 1), bias=False)\n",
       "         (norm2): BatchNorm2d(128, eps=1e-05, momentum=0.1, affine=True, track_running_stats=True)\n",
       "         (relu2): ReLU(inplace)\n",
       "         (conv2): Conv2d(128, 32, kernel_size=(3, 3), stride=(1, 1), padding=(1, 1), bias=False)\n",
       "       )\n",
       "     )\n",
       "     (transition2): _Transition(\n",
       "       (norm): BatchNorm2d(512, eps=1e-05, momentum=0.1, affine=True, track_running_stats=True)\n",
       "       (relu): ReLU(inplace)\n",
       "       (conv): Conv2d(512, 256, kernel_size=(1, 1), stride=(1, 1), bias=False)\n",
       "       (pool): AvgPool2d(kernel_size=2, stride=2, padding=0)\n",
       "     )\n",
       "     (denseblock3): _DenseBlock(\n",
       "       (denselayer1): _DenseLayer(\n",
       "         (norm1): BatchNorm2d(256, eps=1e-05, momentum=0.1, affine=True, track_running_stats=True)\n",
       "         (relu1): ReLU(inplace)\n",
       "         (conv1): Conv2d(256, 128, kernel_size=(1, 1), stride=(1, 1), bias=False)\n",
       "         (norm2): BatchNorm2d(128, eps=1e-05, momentum=0.1, affine=True, track_running_stats=True)\n",
       "         (relu2): ReLU(inplace)\n",
       "         (conv2): Conv2d(128, 32, kernel_size=(3, 3), stride=(1, 1), padding=(1, 1), bias=False)\n",
       "       )\n",
       "       (denselayer2): _DenseLayer(\n",
       "         (norm1): BatchNorm2d(288, eps=1e-05, momentum=0.1, affine=True, track_running_stats=True)\n",
       "         (relu1): ReLU(inplace)\n",
       "         (conv1): Conv2d(288, 128, kernel_size=(1, 1), stride=(1, 1), bias=False)\n",
       "         (norm2): BatchNorm2d(128, eps=1e-05, momentum=0.1, affine=True, track_running_stats=True)\n",
       "         (relu2): ReLU(inplace)\n",
       "         (conv2): Conv2d(128, 32, kernel_size=(3, 3), stride=(1, 1), padding=(1, 1), bias=False)\n",
       "       )\n",
       "       (denselayer3): _DenseLayer(\n",
       "         (norm1): BatchNorm2d(320, eps=1e-05, momentum=0.1, affine=True, track_running_stats=True)\n",
       "         (relu1): ReLU(inplace)\n",
       "         (conv1): Conv2d(320, 128, kernel_size=(1, 1), stride=(1, 1), bias=False)\n",
       "         (norm2): BatchNorm2d(128, eps=1e-05, momentum=0.1, affine=True, track_running_stats=True)\n",
       "         (relu2): ReLU(inplace)\n",
       "         (conv2): Conv2d(128, 32, kernel_size=(3, 3), stride=(1, 1), padding=(1, 1), bias=False)\n",
       "       )\n",
       "       (denselayer4): _DenseLayer(\n",
       "         (norm1): BatchNorm2d(352, eps=1e-05, momentum=0.1, affine=True, track_running_stats=True)\n",
       "         (relu1): ReLU(inplace)\n",
       "         (conv1): Conv2d(352, 128, kernel_size=(1, 1), stride=(1, 1), bias=False)\n",
       "         (norm2): BatchNorm2d(128, eps=1e-05, momentum=0.1, affine=True, track_running_stats=True)\n",
       "         (relu2): ReLU(inplace)\n",
       "         (conv2): Conv2d(128, 32, kernel_size=(3, 3), stride=(1, 1), padding=(1, 1), bias=False)\n",
       "       )\n",
       "       (denselayer5): _DenseLayer(\n",
       "         (norm1): BatchNorm2d(384, eps=1e-05, momentum=0.1, affine=True, track_running_stats=True)\n",
       "         (relu1): ReLU(inplace)\n",
       "         (conv1): Conv2d(384, 128, kernel_size=(1, 1), stride=(1, 1), bias=False)\n",
       "         (norm2): BatchNorm2d(128, eps=1e-05, momentum=0.1, affine=True, track_running_stats=True)\n",
       "         (relu2): ReLU(inplace)\n",
       "         (conv2): Conv2d(128, 32, kernel_size=(3, 3), stride=(1, 1), padding=(1, 1), bias=False)\n",
       "       )\n",
       "       (denselayer6): _DenseLayer(\n",
       "         (norm1): BatchNorm2d(416, eps=1e-05, momentum=0.1, affine=True, track_running_stats=True)\n",
       "         (relu1): ReLU(inplace)\n",
       "         (conv1): Conv2d(416, 128, kernel_size=(1, 1), stride=(1, 1), bias=False)\n",
       "         (norm2): BatchNorm2d(128, eps=1e-05, momentum=0.1, affine=True, track_running_stats=True)\n",
       "         (relu2): ReLU(inplace)\n",
       "         (conv2): Conv2d(128, 32, kernel_size=(3, 3), stride=(1, 1), padding=(1, 1), bias=False)\n",
       "       )\n",
       "       (denselayer7): _DenseLayer(\n",
       "         (norm1): BatchNorm2d(448, eps=1e-05, momentum=0.1, affine=True, track_running_stats=True)\n",
       "         (relu1): ReLU(inplace)\n",
       "         (conv1): Conv2d(448, 128, kernel_size=(1, 1), stride=(1, 1), bias=False)\n",
       "         (norm2): BatchNorm2d(128, eps=1e-05, momentum=0.1, affine=True, track_running_stats=True)\n",
       "         (relu2): ReLU(inplace)\n",
       "         (conv2): Conv2d(128, 32, kernel_size=(3, 3), stride=(1, 1), padding=(1, 1), bias=False)\n",
       "       )\n",
       "       (denselayer8): _DenseLayer(\n",
       "         (norm1): BatchNorm2d(480, eps=1e-05, momentum=0.1, affine=True, track_running_stats=True)\n",
       "         (relu1): ReLU(inplace)\n",
       "         (conv1): Conv2d(480, 128, kernel_size=(1, 1), stride=(1, 1), bias=False)\n",
       "         (norm2): BatchNorm2d(128, eps=1e-05, momentum=0.1, affine=True, track_running_stats=True)\n",
       "         (relu2): ReLU(inplace)\n",
       "         (conv2): Conv2d(128, 32, kernel_size=(3, 3), stride=(1, 1), padding=(1, 1), bias=False)\n",
       "       )\n",
       "       (denselayer9): _DenseLayer(\n",
       "         (norm1): BatchNorm2d(512, eps=1e-05, momentum=0.1, affine=True, track_running_stats=True)\n",
       "         (relu1): ReLU(inplace)\n",
       "         (conv1): Conv2d(512, 128, kernel_size=(1, 1), stride=(1, 1), bias=False)\n",
       "         (norm2): BatchNorm2d(128, eps=1e-05, momentum=0.1, affine=True, track_running_stats=True)\n",
       "         (relu2): ReLU(inplace)\n",
       "         (conv2): Conv2d(128, 32, kernel_size=(3, 3), stride=(1, 1), padding=(1, 1), bias=False)\n",
       "       )\n",
       "       (denselayer10): _DenseLayer(\n",
       "         (norm1): BatchNorm2d(544, eps=1e-05, momentum=0.1, affine=True, track_running_stats=True)\n",
       "         (relu1): ReLU(inplace)\n",
       "         (conv1): Conv2d(544, 128, kernel_size=(1, 1), stride=(1, 1), bias=False)\n",
       "         (norm2): BatchNorm2d(128, eps=1e-05, momentum=0.1, affine=True, track_running_stats=True)\n",
       "         (relu2): ReLU(inplace)\n",
       "         (conv2): Conv2d(128, 32, kernel_size=(3, 3), stride=(1, 1), padding=(1, 1), bias=False)\n",
       "       )\n",
       "       (denselayer11): _DenseLayer(\n",
       "         (norm1): BatchNorm2d(576, eps=1e-05, momentum=0.1, affine=True, track_running_stats=True)\n",
       "         (relu1): ReLU(inplace)\n",
       "         (conv1): Conv2d(576, 128, kernel_size=(1, 1), stride=(1, 1), bias=False)\n",
       "         (norm2): BatchNorm2d(128, eps=1e-05, momentum=0.1, affine=True, track_running_stats=True)\n",
       "         (relu2): ReLU(inplace)\n",
       "         (conv2): Conv2d(128, 32, kernel_size=(3, 3), stride=(1, 1), padding=(1, 1), bias=False)\n",
       "       )\n",
       "       (denselayer12): _DenseLayer(\n",
       "         (norm1): BatchNorm2d(608, eps=1e-05, momentum=0.1, affine=True, track_running_stats=True)\n",
       "         (relu1): ReLU(inplace)\n",
       "         (conv1): Conv2d(608, 128, kernel_size=(1, 1), stride=(1, 1), bias=False)\n",
       "         (norm2): BatchNorm2d(128, eps=1e-05, momentum=0.1, affine=True, track_running_stats=True)\n",
       "         (relu2): ReLU(inplace)\n",
       "         (conv2): Conv2d(128, 32, kernel_size=(3, 3), stride=(1, 1), padding=(1, 1), bias=False)\n",
       "       )\n",
       "       (denselayer13): _DenseLayer(\n",
       "         (norm1): BatchNorm2d(640, eps=1e-05, momentum=0.1, affine=True, track_running_stats=True)\n",
       "         (relu1): ReLU(inplace)\n",
       "         (conv1): Conv2d(640, 128, kernel_size=(1, 1), stride=(1, 1), bias=False)\n",
       "         (norm2): BatchNorm2d(128, eps=1e-05, momentum=0.1, affine=True, track_running_stats=True)\n",
       "         (relu2): ReLU(inplace)\n",
       "         (conv2): Conv2d(128, 32, kernel_size=(3, 3), stride=(1, 1), padding=(1, 1), bias=False)\n",
       "       )\n",
       "       (denselayer14): _DenseLayer(\n",
       "         (norm1): BatchNorm2d(672, eps=1e-05, momentum=0.1, affine=True, track_running_stats=True)\n",
       "         (relu1): ReLU(inplace)\n",
       "         (conv1): Conv2d(672, 128, kernel_size=(1, 1), stride=(1, 1), bias=False)\n",
       "         (norm2): BatchNorm2d(128, eps=1e-05, momentum=0.1, affine=True, track_running_stats=True)\n",
       "         (relu2): ReLU(inplace)\n",
       "         (conv2): Conv2d(128, 32, kernel_size=(3, 3), stride=(1, 1), padding=(1, 1), bias=False)\n",
       "       )\n",
       "       (denselayer15): _DenseLayer(\n",
       "         (norm1): BatchNorm2d(704, eps=1e-05, momentum=0.1, affine=True, track_running_stats=True)\n",
       "         (relu1): ReLU(inplace)\n",
       "         (conv1): Conv2d(704, 128, kernel_size=(1, 1), stride=(1, 1), bias=False)\n",
       "         (norm2): BatchNorm2d(128, eps=1e-05, momentum=0.1, affine=True, track_running_stats=True)\n",
       "         (relu2): ReLU(inplace)\n",
       "         (conv2): Conv2d(128, 32, kernel_size=(3, 3), stride=(1, 1), padding=(1, 1), bias=False)\n",
       "       )\n",
       "       (denselayer16): _DenseLayer(\n",
       "         (norm1): BatchNorm2d(736, eps=1e-05, momentum=0.1, affine=True, track_running_stats=True)\n",
       "         (relu1): ReLU(inplace)\n",
       "         (conv1): Conv2d(736, 128, kernel_size=(1, 1), stride=(1, 1), bias=False)\n",
       "         (norm2): BatchNorm2d(128, eps=1e-05, momentum=0.1, affine=True, track_running_stats=True)\n",
       "         (relu2): ReLU(inplace)\n",
       "         (conv2): Conv2d(128, 32, kernel_size=(3, 3), stride=(1, 1), padding=(1, 1), bias=False)\n",
       "       )\n",
       "       (denselayer17): _DenseLayer(\n",
       "         (norm1): BatchNorm2d(768, eps=1e-05, momentum=0.1, affine=True, track_running_stats=True)\n",
       "         (relu1): ReLU(inplace)\n",
       "         (conv1): Conv2d(768, 128, kernel_size=(1, 1), stride=(1, 1), bias=False)\n",
       "         (norm2): BatchNorm2d(128, eps=1e-05, momentum=0.1, affine=True, track_running_stats=True)\n",
       "         (relu2): ReLU(inplace)\n",
       "         (conv2): Conv2d(128, 32, kernel_size=(3, 3), stride=(1, 1), padding=(1, 1), bias=False)\n",
       "       )\n",
       "       (denselayer18): _DenseLayer(\n",
       "         (norm1): BatchNorm2d(800, eps=1e-05, momentum=0.1, affine=True, track_running_stats=True)\n",
       "         (relu1): ReLU(inplace)\n",
       "         (conv1): Conv2d(800, 128, kernel_size=(1, 1), stride=(1, 1), bias=False)\n",
       "         (norm2): BatchNorm2d(128, eps=1e-05, momentum=0.1, affine=True, track_running_stats=True)\n",
       "         (relu2): ReLU(inplace)\n",
       "         (conv2): Conv2d(128, 32, kernel_size=(3, 3), stride=(1, 1), padding=(1, 1), bias=False)\n",
       "       )\n",
       "       (denselayer19): _DenseLayer(\n",
       "         (norm1): BatchNorm2d(832, eps=1e-05, momentum=0.1, affine=True, track_running_stats=True)\n",
       "         (relu1): ReLU(inplace)\n",
       "         (conv1): Conv2d(832, 128, kernel_size=(1, 1), stride=(1, 1), bias=False)\n",
       "         (norm2): BatchNorm2d(128, eps=1e-05, momentum=0.1, affine=True, track_running_stats=True)\n",
       "         (relu2): ReLU(inplace)\n",
       "         (conv2): Conv2d(128, 32, kernel_size=(3, 3), stride=(1, 1), padding=(1, 1), bias=False)\n",
       "       )\n",
       "       (denselayer20): _DenseLayer(\n",
       "         (norm1): BatchNorm2d(864, eps=1e-05, momentum=0.1, affine=True, track_running_stats=True)\n",
       "         (relu1): ReLU(inplace)\n",
       "         (conv1): Conv2d(864, 128, kernel_size=(1, 1), stride=(1, 1), bias=False)\n",
       "         (norm2): BatchNorm2d(128, eps=1e-05, momentum=0.1, affine=True, track_running_stats=True)\n",
       "         (relu2): ReLU(inplace)\n",
       "         (conv2): Conv2d(128, 32, kernel_size=(3, 3), stride=(1, 1), padding=(1, 1), bias=False)\n",
       "       )\n",
       "       (denselayer21): _DenseLayer(\n",
       "         (norm1): BatchNorm2d(896, eps=1e-05, momentum=0.1, affine=True, track_running_stats=True)\n",
       "         (relu1): ReLU(inplace)\n",
       "         (conv1): Conv2d(896, 128, kernel_size=(1, 1), stride=(1, 1), bias=False)\n",
       "         (norm2): BatchNorm2d(128, eps=1e-05, momentum=0.1, affine=True, track_running_stats=True)\n",
       "         (relu2): ReLU(inplace)\n",
       "         (conv2): Conv2d(128, 32, kernel_size=(3, 3), stride=(1, 1), padding=(1, 1), bias=False)\n",
       "       )\n",
       "       (denselayer22): _DenseLayer(\n",
       "         (norm1): BatchNorm2d(928, eps=1e-05, momentum=0.1, affine=True, track_running_stats=True)\n",
       "         (relu1): ReLU(inplace)\n",
       "         (conv1): Conv2d(928, 128, kernel_size=(1, 1), stride=(1, 1), bias=False)\n",
       "         (norm2): BatchNorm2d(128, eps=1e-05, momentum=0.1, affine=True, track_running_stats=True)\n",
       "         (relu2): ReLU(inplace)\n",
       "         (conv2): Conv2d(128, 32, kernel_size=(3, 3), stride=(1, 1), padding=(1, 1), bias=False)\n",
       "       )\n",
       "       (denselayer23): _DenseLayer(\n",
       "         (norm1): BatchNorm2d(960, eps=1e-05, momentum=0.1, affine=True, track_running_stats=True)\n",
       "         (relu1): ReLU(inplace)\n",
       "         (conv1): Conv2d(960, 128, kernel_size=(1, 1), stride=(1, 1), bias=False)\n",
       "         (norm2): BatchNorm2d(128, eps=1e-05, momentum=0.1, affine=True, track_running_stats=True)\n",
       "         (relu2): ReLU(inplace)\n",
       "         (conv2): Conv2d(128, 32, kernel_size=(3, 3), stride=(1, 1), padding=(1, 1), bias=False)\n",
       "       )\n",
       "       (denselayer24): _DenseLayer(\n",
       "         (norm1): BatchNorm2d(992, eps=1e-05, momentum=0.1, affine=True, track_running_stats=True)\n",
       "         (relu1): ReLU(inplace)\n",
       "         (conv1): Conv2d(992, 128, kernel_size=(1, 1), stride=(1, 1), bias=False)\n",
       "         (norm2): BatchNorm2d(128, eps=1e-05, momentum=0.1, affine=True, track_running_stats=True)\n",
       "         (relu2): ReLU(inplace)\n",
       "         (conv2): Conv2d(128, 32, kernel_size=(3, 3), stride=(1, 1), padding=(1, 1), bias=False)\n",
       "       )\n",
       "     )\n",
       "     (transition3): _Transition(\n",
       "       (norm): BatchNorm2d(1024, eps=1e-05, momentum=0.1, affine=True, track_running_stats=True)\n",
       "       (relu): ReLU(inplace)\n",
       "       (conv): Conv2d(1024, 512, kernel_size=(1, 1), stride=(1, 1), bias=False)\n",
       "       (pool): AvgPool2d(kernel_size=2, stride=2, padding=0)\n",
       "     )\n",
       "     (denseblock4): _DenseBlock(\n",
       "       (denselayer1): _DenseLayer(\n",
       "         (norm1): BatchNorm2d(512, eps=1e-05, momentum=0.1, affine=True, track_running_stats=True)\n",
       "         (relu1): ReLU(inplace)\n",
       "         (conv1): Conv2d(512, 128, kernel_size=(1, 1), stride=(1, 1), bias=False)\n",
       "         (norm2): BatchNorm2d(128, eps=1e-05, momentum=0.1, affine=True, track_running_stats=True)\n",
       "         (relu2): ReLU(inplace)\n",
       "         (conv2): Conv2d(128, 32, kernel_size=(3, 3), stride=(1, 1), padding=(1, 1), bias=False)\n",
       "       )\n",
       "       (denselayer2): _DenseLayer(\n",
       "         (norm1): BatchNorm2d(544, eps=1e-05, momentum=0.1, affine=True, track_running_stats=True)\n",
       "         (relu1): ReLU(inplace)\n",
       "         (conv1): Conv2d(544, 128, kernel_size=(1, 1), stride=(1, 1), bias=False)\n",
       "         (norm2): BatchNorm2d(128, eps=1e-05, momentum=0.1, affine=True, track_running_stats=True)\n",
       "         (relu2): ReLU(inplace)\n",
       "         (conv2): Conv2d(128, 32, kernel_size=(3, 3), stride=(1, 1), padding=(1, 1), bias=False)\n",
       "       )\n",
       "       (denselayer3): _DenseLayer(\n",
       "         (norm1): BatchNorm2d(576, eps=1e-05, momentum=0.1, affine=True, track_running_stats=True)\n",
       "         (relu1): ReLU(inplace)\n",
       "         (conv1): Conv2d(576, 128, kernel_size=(1, 1), stride=(1, 1), bias=False)\n",
       "         (norm2): BatchNorm2d(128, eps=1e-05, momentum=0.1, affine=True, track_running_stats=True)\n",
       "         (relu2): ReLU(inplace)\n",
       "         (conv2): Conv2d(128, 32, kernel_size=(3, 3), stride=(1, 1), padding=(1, 1), bias=False)\n",
       "       )\n",
       "       (denselayer4): _DenseLayer(\n",
       "         (norm1): BatchNorm2d(608, eps=1e-05, momentum=0.1, affine=True, track_running_stats=True)\n",
       "         (relu1): ReLU(inplace)\n",
       "         (conv1): Conv2d(608, 128, kernel_size=(1, 1), stride=(1, 1), bias=False)\n",
       "         (norm2): BatchNorm2d(128, eps=1e-05, momentum=0.1, affine=True, track_running_stats=True)\n",
       "         (relu2): ReLU(inplace)\n",
       "         (conv2): Conv2d(128, 32, kernel_size=(3, 3), stride=(1, 1), padding=(1, 1), bias=False)\n",
       "       )\n",
       "       (denselayer5): _DenseLayer(\n",
       "         (norm1): BatchNorm2d(640, eps=1e-05, momentum=0.1, affine=True, track_running_stats=True)\n",
       "         (relu1): ReLU(inplace)\n",
       "         (conv1): Conv2d(640, 128, kernel_size=(1, 1), stride=(1, 1), bias=False)\n",
       "         (norm2): BatchNorm2d(128, eps=1e-05, momentum=0.1, affine=True, track_running_stats=True)\n",
       "         (relu2): ReLU(inplace)\n",
       "         (conv2): Conv2d(128, 32, kernel_size=(3, 3), stride=(1, 1), padding=(1, 1), bias=False)\n",
       "       )\n",
       "       (denselayer6): _DenseLayer(\n",
       "         (norm1): BatchNorm2d(672, eps=1e-05, momentum=0.1, affine=True, track_running_stats=True)\n",
       "         (relu1): ReLU(inplace)\n",
       "         (conv1): Conv2d(672, 128, kernel_size=(1, 1), stride=(1, 1), bias=False)\n",
       "         (norm2): BatchNorm2d(128, eps=1e-05, momentum=0.1, affine=True, track_running_stats=True)\n",
       "         (relu2): ReLU(inplace)\n",
       "         (conv2): Conv2d(128, 32, kernel_size=(3, 3), stride=(1, 1), padding=(1, 1), bias=False)\n",
       "       )\n",
       "       (denselayer7): _DenseLayer(\n",
       "         (norm1): BatchNorm2d(704, eps=1e-05, momentum=0.1, affine=True, track_running_stats=True)\n",
       "         (relu1): ReLU(inplace)\n",
       "         (conv1): Conv2d(704, 128, kernel_size=(1, 1), stride=(1, 1), bias=False)\n",
       "         (norm2): BatchNorm2d(128, eps=1e-05, momentum=0.1, affine=True, track_running_stats=True)\n",
       "         (relu2): ReLU(inplace)\n",
       "         (conv2): Conv2d(128, 32, kernel_size=(3, 3), stride=(1, 1), padding=(1, 1), bias=False)\n",
       "       )\n",
       "       (denselayer8): _DenseLayer(\n",
       "         (norm1): BatchNorm2d(736, eps=1e-05, momentum=0.1, affine=True, track_running_stats=True)\n",
       "         (relu1): ReLU(inplace)\n",
       "         (conv1): Conv2d(736, 128, kernel_size=(1, 1), stride=(1, 1), bias=False)\n",
       "         (norm2): BatchNorm2d(128, eps=1e-05, momentum=0.1, affine=True, track_running_stats=True)\n",
       "         (relu2): ReLU(inplace)\n",
       "         (conv2): Conv2d(128, 32, kernel_size=(3, 3), stride=(1, 1), padding=(1, 1), bias=False)\n",
       "       )\n",
       "       (denselayer9): _DenseLayer(\n",
       "         (norm1): BatchNorm2d(768, eps=1e-05, momentum=0.1, affine=True, track_running_stats=True)\n",
       "         (relu1): ReLU(inplace)\n",
       "         (conv1): Conv2d(768, 128, kernel_size=(1, 1), stride=(1, 1), bias=False)\n",
       "         (norm2): BatchNorm2d(128, eps=1e-05, momentum=0.1, affine=True, track_running_stats=True)\n",
       "         (relu2): ReLU(inplace)\n",
       "         (conv2): Conv2d(128, 32, kernel_size=(3, 3), stride=(1, 1), padding=(1, 1), bias=False)\n",
       "       )\n",
       "       (denselayer10): _DenseLayer(\n",
       "         (norm1): BatchNorm2d(800, eps=1e-05, momentum=0.1, affine=True, track_running_stats=True)\n",
       "         (relu1): ReLU(inplace)\n",
       "         (conv1): Conv2d(800, 128, kernel_size=(1, 1), stride=(1, 1), bias=False)\n",
       "         (norm2): BatchNorm2d(128, eps=1e-05, momentum=0.1, affine=True, track_running_stats=True)\n",
       "         (relu2): ReLU(inplace)\n",
       "         (conv2): Conv2d(128, 32, kernel_size=(3, 3), stride=(1, 1), padding=(1, 1), bias=False)\n",
       "       )\n",
       "       (denselayer11): _DenseLayer(\n",
       "         (norm1): BatchNorm2d(832, eps=1e-05, momentum=0.1, affine=True, track_running_stats=True)\n",
       "         (relu1): ReLU(inplace)\n",
       "         (conv1): Conv2d(832, 128, kernel_size=(1, 1), stride=(1, 1), bias=False)\n",
       "         (norm2): BatchNorm2d(128, eps=1e-05, momentum=0.1, affine=True, track_running_stats=True)\n",
       "         (relu2): ReLU(inplace)\n",
       "         (conv2): Conv2d(128, 32, kernel_size=(3, 3), stride=(1, 1), padding=(1, 1), bias=False)\n",
       "       )\n",
       "       (denselayer12): _DenseLayer(\n",
       "         (norm1): BatchNorm2d(864, eps=1e-05, momentum=0.1, affine=True, track_running_stats=True)\n",
       "         (relu1): ReLU(inplace)\n",
       "         (conv1): Conv2d(864, 128, kernel_size=(1, 1), stride=(1, 1), bias=False)\n",
       "         (norm2): BatchNorm2d(128, eps=1e-05, momentum=0.1, affine=True, track_running_stats=True)\n",
       "         (relu2): ReLU(inplace)\n",
       "         (conv2): Conv2d(128, 32, kernel_size=(3, 3), stride=(1, 1), padding=(1, 1), bias=False)\n",
       "       )\n",
       "       (denselayer13): _DenseLayer(\n",
       "         (norm1): BatchNorm2d(896, eps=1e-05, momentum=0.1, affine=True, track_running_stats=True)\n",
       "         (relu1): ReLU(inplace)\n",
       "         (conv1): Conv2d(896, 128, kernel_size=(1, 1), stride=(1, 1), bias=False)\n",
       "         (norm2): BatchNorm2d(128, eps=1e-05, momentum=0.1, affine=True, track_running_stats=True)\n",
       "         (relu2): ReLU(inplace)\n",
       "         (conv2): Conv2d(128, 32, kernel_size=(3, 3), stride=(1, 1), padding=(1, 1), bias=False)\n",
       "       )\n",
       "       (denselayer14): _DenseLayer(\n",
       "         (norm1): BatchNorm2d(928, eps=1e-05, momentum=0.1, affine=True, track_running_stats=True)\n",
       "         (relu1): ReLU(inplace)\n",
       "         (conv1): Conv2d(928, 128, kernel_size=(1, 1), stride=(1, 1), bias=False)\n",
       "         (norm2): BatchNorm2d(128, eps=1e-05, momentum=0.1, affine=True, track_running_stats=True)\n",
       "         (relu2): ReLU(inplace)\n",
       "         (conv2): Conv2d(128, 32, kernel_size=(3, 3), stride=(1, 1), padding=(1, 1), bias=False)\n",
       "       )\n",
       "       (denselayer15): _DenseLayer(\n",
       "         (norm1): BatchNorm2d(960, eps=1e-05, momentum=0.1, affine=True, track_running_stats=True)\n",
       "         (relu1): ReLU(inplace)\n",
       "         (conv1): Conv2d(960, 128, kernel_size=(1, 1), stride=(1, 1), bias=False)\n",
       "         (norm2): BatchNorm2d(128, eps=1e-05, momentum=0.1, affine=True, track_running_stats=True)\n",
       "         (relu2): ReLU(inplace)\n",
       "         (conv2): Conv2d(128, 32, kernel_size=(3, 3), stride=(1, 1), padding=(1, 1), bias=False)\n",
       "       )\n",
       "       (denselayer16): _DenseLayer(\n",
       "         (norm1): BatchNorm2d(992, eps=1e-05, momentum=0.1, affine=True, track_running_stats=True)\n",
       "         (relu1): ReLU(inplace)\n",
       "         (conv1): Conv2d(992, 128, kernel_size=(1, 1), stride=(1, 1), bias=False)\n",
       "         (norm2): BatchNorm2d(128, eps=1e-05, momentum=0.1, affine=True, track_running_stats=True)\n",
       "         (relu2): ReLU(inplace)\n",
       "         (conv2): Conv2d(128, 32, kernel_size=(3, 3), stride=(1, 1), padding=(1, 1), bias=False)\n",
       "       )\n",
       "     )\n",
       "     (norm5): BatchNorm2d(1024, eps=1e-05, momentum=0.1, affine=True, track_running_stats=True)\n",
       "   )\n",
       "   (classifier): Linear(in_features=1024, out_features=5, bias=True)\n",
       " )}"
      ]
     },
     "execution_count": 72,
     "metadata": {},
     "output_type": "execute_result"
    }
   ],
   "source": [
    "trainer.train()"
   ]
  },
  {
   "cell_type": "code",
   "execution_count": 111,
   "metadata": {},
   "outputs": [
    {
     "data": {
      "text/plain": [
       "tensor(3)"
      ]
     },
     "execution_count": 111,
     "metadata": {},
     "output_type": "execute_result"
    }
   ],
   "source": [
    "torch.sum(torch.tensor([1, 2]))"
   ]
  },
  {
   "cell_type": "code",
   "execution_count": 144,
   "metadata": {},
   "outputs": [
    {
     "data": {
      "text/plain": [
       "'torch.FloatTensor'"
      ]
     },
     "execution_count": 144,
     "metadata": {},
     "output_type": "execute_result"
    }
   ],
   "source": [
    "torch.from_numpy(np.array([1.0, 0.0]).astype(np.float32)).type()"
   ]
  },
  {
   "cell_type": "code",
   "execution_count": 120,
   "metadata": {},
   "outputs": [
    {
     "data": {
      "text/html": [
       "<div>\n",
       "<style scoped>\n",
       "    .dataframe tbody tr th:only-of-type {\n",
       "        vertical-align: middle;\n",
       "    }\n",
       "\n",
       "    .dataframe tbody tr th {\n",
       "        vertical-align: top;\n",
       "    }\n",
       "\n",
       "    .dataframe thead th {\n",
       "        text-align: right;\n",
       "    }\n",
       "</style>\n",
       "<table border=\"1\" class=\"dataframe\">\n",
       "  <thead>\n",
       "    <tr style=\"text-align: right;\">\n",
       "      <th></th>\n",
       "      <th>X1</th>\n",
       "      <th>X2</th>\n",
       "      <th>X3</th>\n",
       "      <th>X4</th>\n",
       "      <th>X5</th>\n",
       "      <th>X6</th>\n",
       "      <th>X7</th>\n",
       "      <th>X8</th>\n",
       "      <th>X9</th>\n",
       "      <th>X10</th>\n",
       "      <th>...</th>\n",
       "      <th>X170</th>\n",
       "      <th>X171</th>\n",
       "      <th>X172</th>\n",
       "      <th>X173</th>\n",
       "      <th>X174</th>\n",
       "      <th>X175</th>\n",
       "      <th>X176</th>\n",
       "      <th>X177</th>\n",
       "      <th>X178</th>\n",
       "      <th>y</th>\n",
       "    </tr>\n",
       "  </thead>\n",
       "  <tbody>\n",
       "    <tr>\n",
       "      <th>0</th>\n",
       "      <td>-113</td>\n",
       "      <td>-92</td>\n",
       "      <td>-67</td>\n",
       "      <td>-37</td>\n",
       "      <td>24</td>\n",
       "      <td>63</td>\n",
       "      <td>85</td>\n",
       "      <td>62</td>\n",
       "      <td>9</td>\n",
       "      <td>-24</td>\n",
       "      <td>...</td>\n",
       "      <td>22</td>\n",
       "      <td>19</td>\n",
       "      <td>17</td>\n",
       "      <td>10</td>\n",
       "      <td>16</td>\n",
       "      <td>5</td>\n",
       "      <td>45</td>\n",
       "      <td>75</td>\n",
       "      <td>102</td>\n",
       "      <td>5</td>\n",
       "    </tr>\n",
       "    <tr>\n",
       "      <th>1</th>\n",
       "      <td>518</td>\n",
       "      <td>352</td>\n",
       "      <td>-94</td>\n",
       "      <td>-530</td>\n",
       "      <td>-938</td>\n",
       "      <td>-1003</td>\n",
       "      <td>-788</td>\n",
       "      <td>-300</td>\n",
       "      <td>291</td>\n",
       "      <td>831</td>\n",
       "      <td>...</td>\n",
       "      <td>-757</td>\n",
       "      <td>19</td>\n",
       "      <td>413</td>\n",
       "      <td>628</td>\n",
       "      <td>607</td>\n",
       "      <td>364</td>\n",
       "      <td>-108</td>\n",
       "      <td>-661</td>\n",
       "      <td>-1091</td>\n",
       "      <td>1</td>\n",
       "    </tr>\n",
       "    <tr>\n",
       "      <th>2</th>\n",
       "      <td>39</td>\n",
       "      <td>22</td>\n",
       "      <td>17</td>\n",
       "      <td>-13</td>\n",
       "      <td>-45</td>\n",
       "      <td>-63</td>\n",
       "      <td>-74</td>\n",
       "      <td>-92</td>\n",
       "      <td>-79</td>\n",
       "      <td>-87</td>\n",
       "      <td>...</td>\n",
       "      <td>108</td>\n",
       "      <td>101</td>\n",
       "      <td>80</td>\n",
       "      <td>88</td>\n",
       "      <td>87</td>\n",
       "      <td>91</td>\n",
       "      <td>110</td>\n",
       "      <td>112</td>\n",
       "      <td>124</td>\n",
       "      <td>2</td>\n",
       "    </tr>\n",
       "    <tr>\n",
       "      <th>3</th>\n",
       "      <td>8</td>\n",
       "      <td>31</td>\n",
       "      <td>-25</td>\n",
       "      <td>-57</td>\n",
       "      <td>-85</td>\n",
       "      <td>-87</td>\n",
       "      <td>-58</td>\n",
       "      <td>-40</td>\n",
       "      <td>-25</td>\n",
       "      <td>-33</td>\n",
       "      <td>...</td>\n",
       "      <td>-103</td>\n",
       "      <td>-72</td>\n",
       "      <td>-65</td>\n",
       "      <td>-40</td>\n",
       "      <td>-69</td>\n",
       "      <td>-44</td>\n",
       "      <td>-35</td>\n",
       "      <td>22</td>\n",
       "      <td>17</td>\n",
       "      <td>3</td>\n",
       "    </tr>\n",
       "    <tr>\n",
       "      <th>4</th>\n",
       "      <td>-41</td>\n",
       "      <td>-58</td>\n",
       "      <td>-89</td>\n",
       "      <td>-90</td>\n",
       "      <td>-91</td>\n",
       "      <td>-77</td>\n",
       "      <td>-40</td>\n",
       "      <td>-47</td>\n",
       "      <td>-18</td>\n",
       "      <td>26</td>\n",
       "      <td>...</td>\n",
       "      <td>42</td>\n",
       "      <td>25</td>\n",
       "      <td>-6</td>\n",
       "      <td>-37</td>\n",
       "      <td>-56</td>\n",
       "      <td>-76</td>\n",
       "      <td>-98</td>\n",
       "      <td>-99</td>\n",
       "      <td>-99</td>\n",
       "      <td>4</td>\n",
       "    </tr>\n",
       "  </tbody>\n",
       "</table>\n",
       "<p>5 rows × 179 columns</p>\n",
       "</div>"
      ],
      "text/plain": [
       "    X1   X2  X3   X4   X5    X6   X7   X8   X9  X10 ...  X170  X171  X172  \\\n",
       "0 -113  -92 -67  -37   24    63   85   62    9  -24 ...    22    19    17   \n",
       "1  518  352 -94 -530 -938 -1003 -788 -300  291  831 ...  -757    19   413   \n",
       "2   39   22  17  -13  -45   -63  -74  -92  -79  -87 ...   108   101    80   \n",
       "3    8   31 -25  -57  -85   -87  -58  -40  -25  -33 ...  -103   -72   -65   \n",
       "4  -41  -58 -89  -90  -91   -77  -40  -47  -18   26 ...    42    25    -6   \n",
       "\n",
       "   X173  X174  X175  X176  X177  X178  y  \n",
       "0    10    16     5    45    75   102  5  \n",
       "1   628   607   364  -108  -661 -1091  1  \n",
       "2    88    87    91   110   112   124  2  \n",
       "3   -40   -69   -44   -35    22    17  3  \n",
       "4   -37   -56   -76   -98   -99   -99  4  \n",
       "\n",
       "[5 rows x 179 columns]"
      ]
     },
     "execution_count": 120,
     "metadata": {},
     "output_type": "execute_result"
    }
   ],
   "source": [
    "df= pd.read_csv('../homework5/data/seizure/seizure_validation.csv')\n",
    "df.head()"
   ]
  },
  {
   "cell_type": "code",
   "execution_count": 125,
   "metadata": {},
   "outputs": [
    {
     "data": {
      "text/plain": [
       "array([5, 1, 2, ..., 5, 1, 2])"
      ]
     },
     "execution_count": 125,
     "metadata": {},
     "output_type": "execute_result"
    }
   ],
   "source": [
    "df['y'].values"
   ]
  },
  {
   "cell_type": "code",
   "execution_count": 133,
   "metadata": {},
   "outputs": [
    {
     "data": {
      "text/plain": [
       "torch.float64"
      ]
     },
     "execution_count": 133,
     "metadata": {},
     "output_type": "execute_result"
    }
   ],
   "source": [
    "torch.double"
   ]
  },
  {
   "cell_type": "code",
   "execution_count": 135,
   "metadata": {},
   "outputs": [
    {
     "data": {
      "text/plain": [
       "False"
      ]
     },
     "execution_count": 135,
     "metadata": {},
     "output_type": "execute_result"
    }
   ],
   "source": [
    "torch.float64 == np.float64"
   ]
  },
  {
   "cell_type": "code",
   "execution_count": 9,
   "metadata": {
    "collapsed": true
   },
   "outputs": [],
   "source": [
    "ds = chx.get_dataset('train')"
   ]
  },
  {
   "cell_type": "code",
   "execution_count": 10,
   "metadata": {
    "collapsed": true
   },
   "outputs": [],
   "source": [
    "ld = chx.get_loader(ds)"
   ]
  },
  {
   "cell_type": "code",
   "execution_count": 11,
   "metadata": {},
   "outputs": [
    {
     "data": {
      "text/plain": [
       "(tensor([[[[ 2.2318, -0.0972, -1.8610,  ..., -0.0287, -0.1999, -0.3541],\n",
       "           [-0.1999, -1.1247, -1.7925,  ..., -0.0458, -0.2171, -0.2856],\n",
       "           [-1.7925, -1.7754, -1.7412,  ...,  0.0227, -0.0629, -0.0801],\n",
       "           ...,\n",
       "           [-0.0116,  0.0912,  0.1426,  ...,  1.2557,  1.2557,  1.2043],\n",
       "           [ 0.0398,  0.1597,  0.2111,  ...,  1.2557,  1.2385,  1.2214],\n",
       "           [ 0.1254,  0.2282,  0.2453,  ...,  1.2385,  1.2385,  1.2557]],\n",
       " \n",
       "          [[ 2.4111,  0.0301, -1.7731,  ...,  0.1001, -0.0749, -0.2325],\n",
       "           [-0.0749, -1.0203, -1.7031,  ...,  0.0826, -0.0924, -0.1625],\n",
       "           [-1.7031, -1.6856, -1.6506,  ...,  0.1527,  0.0651,  0.0476],\n",
       "           ...,\n",
       "           [ 0.1176,  0.2227,  0.2752,  ...,  1.4132,  1.4132,  1.3606],\n",
       "           [ 0.1702,  0.2927,  0.3452,  ...,  1.4132,  1.3957,  1.3782],\n",
       "           [ 0.2577,  0.3627,  0.3803,  ...,  1.3957,  1.3957,  1.4132]],\n",
       " \n",
       "          [[ 2.6226,  0.2522, -1.5430,  ...,  0.3219,  0.1476, -0.0092],\n",
       "           [ 0.1476, -0.7936, -1.4733,  ...,  0.3045,  0.1302,  0.0605],\n",
       "           [-1.4733, -1.4559, -1.4210,  ...,  0.3742,  0.2871,  0.2696],\n",
       "           ...,\n",
       "           [ 0.3393,  0.4439,  0.4962,  ...,  1.6291,  1.6291,  1.5768],\n",
       "           [ 0.3916,  0.5136,  0.5659,  ...,  1.6291,  1.6117,  1.5942],\n",
       "           [ 0.4788,  0.5834,  0.6008,  ...,  1.6117,  1.6117,  1.6291]]],\n",
       " \n",
       " \n",
       "         [[[-2.0152, -2.0323, -1.9980,  ...,  1.7694,  1.7180,  1.6838],\n",
       "           [-2.0323, -2.0152, -1.9809,  ...,  1.7009,  1.7180,  1.8722],\n",
       "           [-1.9980, -1.9809, -1.9638,  ...,  1.7009,  1.7009,  1.7352],\n",
       "           ...,\n",
       "           [-0.6109, -0.6794, -0.7137,  ...,  1.8550,  1.8722,  1.8722],\n",
       "           [-0.6623, -0.7308, -0.7308,  ...,  1.8893,  1.9235,  1.8722],\n",
       "           [-0.6109, -0.7137, -0.7650,  ...,  1.8550,  1.8722,  1.8550]],\n",
       " \n",
       "          [[-1.9307, -1.9482, -1.9132,  ...,  1.9384,  1.8859,  1.8508],\n",
       "           [-1.9482, -1.9307, -1.8957,  ...,  1.8683,  1.8859,  2.0434],\n",
       "           [-1.9132, -1.8957, -1.8782,  ...,  1.8683,  1.8683,  1.9034],\n",
       "           ...,\n",
       "           [-0.4951, -0.5651, -0.6001,  ...,  2.0259,  2.0434,  2.0434],\n",
       "           [-0.5476, -0.6176, -0.6176,  ...,  2.0609,  2.0959,  2.0434],\n",
       "           [-0.4951, -0.6001, -0.6527,  ...,  2.0259,  2.0434,  2.0259]],\n",
       " \n",
       "          [[-1.6999, -1.7173, -1.6824,  ...,  2.1520,  2.0997,  2.0648],\n",
       "           [-1.7173, -1.6999, -1.6650,  ...,  2.0823,  2.0997,  2.2566],\n",
       "           [-1.6824, -1.6650, -1.6476,  ...,  2.0823,  2.0823,  2.1171],\n",
       "           ...,\n",
       "           [-0.2707, -0.3404, -0.3753,  ...,  2.2391,  2.2566,  2.2566],\n",
       "           [-0.3230, -0.3927, -0.3927,  ...,  2.2740,  2.3088,  2.2566],\n",
       "           [-0.2707, -0.3753, -0.4275,  ...,  2.2391,  2.2566,  2.2391]]],\n",
       " \n",
       " \n",
       "         [[[-1.6555, -1.7069, -1.6898,  ..., -1.6727, -1.6727, -1.6727],\n",
       "           [-1.6898, -1.7412, -1.7240,  ..., -1.7069, -1.6898, -1.7069],\n",
       "           [-1.6727, -1.7412, -1.7412,  ..., -1.6898, -1.7069, -1.7583],\n",
       "           ...,\n",
       "           [ 0.3652, -0.5596, -0.7822,  ..., -0.7479, -0.6452, -0.4226],\n",
       "           [ 0.0912, -0.6623, -0.8164,  ..., -0.6965, -0.8335, -0.8678],\n",
       "           [-0.1143, -0.7137, -0.6794,  ..., -0.6965, -0.8164, -0.9020]],\n",
       " \n",
       "          [[-1.5630, -1.6155, -1.5980,  ..., -1.5805, -1.5805, -1.5805],\n",
       "           [-1.5980, -1.6506, -1.6331,  ..., -1.6155, -1.5980, -1.6155],\n",
       "           [-1.5805, -1.6506, -1.6506,  ..., -1.5980, -1.6155, -1.6681],\n",
       "           ...,\n",
       "           [ 0.5028, -0.4426, -0.6702,  ..., -0.6352, -0.5301, -0.3025],\n",
       "           [ 0.2227, -0.5476, -0.7052,  ..., -0.5826, -0.7227, -0.7577],\n",
       "           [ 0.0126, -0.6001, -0.5651,  ..., -0.5826, -0.7052, -0.7927]],\n",
       " \n",
       "          [[-1.3339, -1.3861, -1.3687,  ..., -1.3513, -1.3513, -1.3513],\n",
       "           [-1.3687, -1.4210, -1.4036,  ..., -1.3861, -1.3687, -1.3861],\n",
       "           [-1.3513, -1.4210, -1.4210,  ..., -1.3687, -1.3861, -1.4384],\n",
       "           ...,\n",
       "           [ 0.7228, -0.2184, -0.4450,  ..., -0.4101, -0.3055, -0.0790],\n",
       "           [ 0.4439, -0.3230, -0.4798,  ..., -0.3578, -0.4973, -0.5321],\n",
       "           [ 0.2348, -0.3753, -0.3404,  ..., -0.3578, -0.4798, -0.5670]]],\n",
       " \n",
       " \n",
       "         ...,\n",
       " \n",
       " \n",
       "         [[[-0.4054, -0.6109, -0.8335,  ..., -0.7137, -0.7822, -0.7479],\n",
       "           [-0.5596, -0.6109, -0.5253,  ..., -0.5596, -0.6623, -0.7137],\n",
       "           [-0.3883, -0.3712, -0.4911,  ..., -0.5253, -0.6281, -0.5596],\n",
       "           ...,\n",
       "           [ 1.4098,  1.3413,  1.3927,  ...,  0.6906,  0.4337,  0.5193],\n",
       "           [ 1.4269,  1.4269,  1.3927,  ...,  0.6563,  0.2796,  0.6563],\n",
       "           [ 1.3413,  1.4269,  1.3755,  ...,  0.5878,  0.4851,  0.5878]],\n",
       " \n",
       "          [[-0.2850, -0.4951, -0.7227,  ..., -0.6001, -0.6702, -0.6352],\n",
       "           [-0.4426, -0.4951, -0.4076,  ..., -0.4426, -0.5476, -0.6001],\n",
       "           [-0.2675, -0.2500, -0.3725,  ..., -0.4076, -0.5126, -0.4426],\n",
       "           ...,\n",
       "           [ 1.5707,  1.5007,  1.5532,  ...,  0.8354,  0.5728,  0.6604],\n",
       "           [ 1.5882,  1.5882,  1.5532,  ...,  0.8004,  0.4153,  0.8004],\n",
       "           [ 1.5007,  1.5882,  1.5357,  ...,  0.7304,  0.6254,  0.7304]],\n",
       " \n",
       "          [[-0.0615, -0.2707, -0.4973,  ..., -0.3753, -0.4450, -0.4101],\n",
       "           [-0.2184, -0.2707, -0.1835,  ..., -0.2184, -0.3230, -0.3753],\n",
       "           [-0.0441, -0.0267, -0.1487,  ..., -0.1835, -0.2881, -0.2184],\n",
       "           ...,\n",
       "           [ 1.7860,  1.7163,  1.7685,  ...,  1.0539,  0.7925,  0.8797],\n",
       "           [ 1.8034,  1.8034,  1.7685,  ...,  1.0191,  0.6356,  1.0191],\n",
       "           [ 1.7163,  1.8034,  1.7511,  ...,  0.9494,  0.8448,  0.9494]]],\n",
       " \n",
       " \n",
       "         [[[-1.9809, -1.9809, -2.0152,  ..., -1.8439, -1.8953, -1.8953],\n",
       "           [-1.9638, -1.9980, -1.9980,  ..., -1.9295, -1.9295, -1.9124],\n",
       "           [-1.8782, -1.9467, -1.9295,  ..., -1.9980, -1.9809, -1.9638],\n",
       "           ...,\n",
       "           [-0.5767, -0.5253, -0.3712,  ..., -1.5357, -1.8610, -2.0494],\n",
       "           [ 0.0912,  0.1083,  0.1939,  ..., -1.6042, -1.7240, -2.0323],\n",
       "           [ 0.7077,  0.6392,  0.7933,  ..., -1.8610, -1.5357, -1.9809]],\n",
       " \n",
       "          [[-1.8957, -1.8957, -1.9307,  ..., -1.7556, -1.8081, -1.8081],\n",
       "           [-1.8782, -1.9132, -1.9132,  ..., -1.8431, -1.8431, -1.8256],\n",
       "           [-1.7906, -1.8606, -1.8431,  ..., -1.9132, -1.8957, -1.8782],\n",
       "           ...,\n",
       "           [-0.4601, -0.4076, -0.2500,  ..., -1.4405, -1.7731, -1.9657],\n",
       "           [ 0.2227,  0.2402,  0.3277,  ..., -1.5105, -1.6331, -1.9482],\n",
       "           [ 0.8529,  0.7829,  0.9405,  ..., -1.7731, -1.4405, -1.8957]],\n",
       " \n",
       "          [[-1.6650, -1.6650, -1.6999,  ..., -1.5256, -1.5779, -1.5779],\n",
       "           [-1.6476, -1.6824, -1.6824,  ..., -1.6127, -1.6127, -1.5953],\n",
       "           [-1.5604, -1.6302, -1.6127,  ..., -1.6824, -1.6650, -1.6476],\n",
       "           ...,\n",
       "           [-0.2358, -0.1835, -0.0267,  ..., -1.2119, -1.5430, -1.7347],\n",
       "           [ 0.4439,  0.4614,  0.5485,  ..., -1.2816, -1.4036, -1.7173],\n",
       "           [ 1.0714,  1.0017,  1.1585,  ..., -1.5430, -1.2119, -1.6650]]],\n",
       " \n",
       " \n",
       "         [[[-1.5185, -1.5699, -1.5014,  ...,  1.0159,  1.1529,  1.2043],\n",
       "           [-1.5357, -1.5014, -1.4672,  ...,  1.1529,  1.2899,  1.2385],\n",
       "           [-1.4672, -1.3987, -1.3644,  ...,  1.2557,  1.2214,  1.1529],\n",
       "           ...,\n",
       "           [ 1.8550,  1.8550,  1.8379,  ..., -1.2788, -1.2274, -1.3644],\n",
       "           [ 1.9578,  1.9407,  1.8722,  ..., -1.0733, -1.3130, -1.2445],\n",
       "           [ 1.7694,  1.8550,  1.8550,  ..., -0.7137, -0.8335, -1.1589]],\n",
       " \n",
       "          [[-1.4230, -1.4755, -1.4055,  ...,  1.1681,  1.3081,  1.3606],\n",
       "           [-1.4405, -1.4055, -1.3704,  ...,  1.3081,  1.4482,  1.3957],\n",
       "           [-1.3704, -1.3004, -1.2654,  ...,  1.4132,  1.3782,  1.3081],\n",
       "           ...,\n",
       "           [ 2.0259,  2.0259,  2.0084,  ..., -1.1779, -1.1253, -1.2654],\n",
       "           [ 2.1310,  2.1134,  2.0434,  ..., -0.9678, -1.2129, -1.1429],\n",
       "           [ 1.9384,  2.0259,  2.0259,  ..., -0.6001, -0.7227, -1.0553]],\n",
       " \n",
       "          [[-1.1944, -1.2467, -1.1770,  ...,  1.3851,  1.5245,  1.5768],\n",
       "           [-1.2119, -1.1770, -1.1421,  ...,  1.5245,  1.6640,  1.6117],\n",
       "           [-1.1421, -1.0724, -1.0376,  ...,  1.6291,  1.5942,  1.5245],\n",
       "           ...,\n",
       "           [ 2.2391,  2.2391,  2.2217,  ..., -0.9504, -0.8981, -1.0376],\n",
       "           [ 2.3437,  2.3263,  2.2566,  ..., -0.7413, -0.9853, -0.9156],\n",
       "           [ 2.1520,  2.2391,  2.2391,  ..., -0.3753, -0.4973, -0.8284]]]]),\n",
       " tensor([[0., 1., 0., 0., 0.],\n",
       "         [0., 1., 0., 0., 0.],\n",
       "         [0., 0., 1., 0., 0.],\n",
       "         [0., 0., 0., 1., 0.],\n",
       "         [0., 1., 0., 1., 1.],\n",
       "         [0., 0., 0., 0., 0.],\n",
       "         [1., 0., 0., 0., 1.],\n",
       "         [0., 0., 1., 0., 0.],\n",
       "         [0., 0., 0., 0., 1.],\n",
       "         [1., 1., 0., 1., 1.],\n",
       "         [1., 0., 0., 0., 0.],\n",
       "         [0., 0., 0., 0., 0.],\n",
       "         [1., 0., 0., 0., 0.],\n",
       "         [0., 0., 0., 0., 1.],\n",
       "         [0., 0., 0., 0., 0.],\n",
       "         [0., 0., 0., 0., 0.],\n",
       "         [1., 0., 0., 0., 0.],\n",
       "         [0., 1., 0., 1., 1.],\n",
       "         [0., 0., 0., 0., 0.],\n",
       "         [0., 0., 0., 0., 1.],\n",
       "         [1., 0., 0., 0., 0.],\n",
       "         [0., 0., 0., 0., 1.],\n",
       "         [0., 1., 1., 1., 0.],\n",
       "         [0., 0., 0., 0., 0.],\n",
       "         [1., 0., 0., 0., 0.],\n",
       "         [0., 0., 1., 0., 1.],\n",
       "         [0., 0., 0., 0., 1.],\n",
       "         [0., 0., 0., 0., 1.],\n",
       "         [0., 0., 0., 0., 0.],\n",
       "         [0., 0., 0., 1., 1.],\n",
       "         [1., 0., 0., 1., 1.],\n",
       "         [0., 0., 0., 0., 0.],\n",
       "         [0., 0., 0., 0., 1.],\n",
       "         [0., 0., 1., 0., 0.],\n",
       "         [1., 0., 0., 1., 1.],\n",
       "         [1., 0., 0., 0., 1.],\n",
       "         [0., 0., 0., 0., 0.],\n",
       "         [1., 0., 0., 0., 0.],\n",
       "         [0., 0., 0., 0., 0.],\n",
       "         [0., 0., 1., 0., 1.],\n",
       "         [0., 0., 0., 0., 0.],\n",
       "         [0., 0., 0., 0., 0.],\n",
       "         [0., 0., 0., 0., 0.],\n",
       "         [1., 0., 0., 0., 1.],\n",
       "         [0., 0., 0., 0., 1.],\n",
       "         [0., 0., 0., 0., 0.],\n",
       "         [0., 0., 0., 0., 0.],\n",
       "         [0., 0., 0., 0., 1.],\n",
       "         [0., 0., 0., 1., 0.],\n",
       "         [0., 0., 0., 0., 0.],\n",
       "         [0., 0., 0., 1., 1.],\n",
       "         [0., 0., 0., 0., 0.],\n",
       "         [0., 0., 0., 0., 0.],\n",
       "         [0., 0., 0., 0., 0.],\n",
       "         [0., 0., 0., 0., 0.],\n",
       "         [0., 0., 0., 1., 0.],\n",
       "         [0., 0., 0., 0., 0.],\n",
       "         [0., 0., 0., 0., 1.],\n",
       "         [1., 0., 0., 0., 0.],\n",
       "         [0., 1., 0., 0., 1.],\n",
       "         [1., 0., 1., 0., 0.],\n",
       "         [0., 0., 0., 0., 0.],\n",
       "         [0., 0., 0., 0., 0.],\n",
       "         [0., 0., 0., 0., 1.]]))"
      ]
     },
     "execution_count": 11,
     "metadata": {},
     "output_type": "execute_result"
    }
   ],
   "source": [
    "inputs, labels = next(iter(ld))\n",
    "inputs, labels"
   ]
  },
  {
   "cell_type": "code",
   "execution_count": 12,
   "metadata": {
    "collapsed": true
   },
   "outputs": [],
   "source": [
    "outputs = trainer.model(inputs)"
   ]
  },
  {
   "cell_type": "code",
   "execution_count": 13,
   "metadata": {},
   "outputs": [
    {
     "data": {
      "text/plain": [
       "tensor([3, 4, 3, 4, 2, 4, 3, 4, 4, 2, 4, 3, 4, 4, 4, 4, 4, 4, 4, 2, 4, 4, 2, 4,\n",
       "        3, 3, 3, 4, 4, 4, 2, 3, 2, 4, 3, 3, 2, 4, 4, 4, 4, 2, 4, 4, 4, 4, 4, 4,\n",
       "        4, 4, 2, 4, 4, 4, 4, 4, 2, 4, 4, 4, 4, 4, 2, 4])"
      ]
     },
     "execution_count": 13,
     "metadata": {},
     "output_type": "execute_result"
    }
   ],
   "source": [
    "torch.max(outputs, 1)[1]"
   ]
  },
  {
   "cell_type": "code",
   "execution_count": 14,
   "metadata": {},
   "outputs": [
    {
     "data": {
      "text/plain": [
       "tensor([[-1.3407, -0.1243,  0.0027,  0.2877, -0.0491],\n",
       "        [-1.2140, -0.1208,  0.0457, -0.1367,  0.5960],\n",
       "        [-1.5283, -0.2450, -0.1017,  0.5125,  0.4763],\n",
       "        [-1.6874, -0.1369, -0.0387,  0.7252,  0.7536],\n",
       "        [-1.1826, -0.2164,  0.2043,  0.1021,  0.1759],\n",
       "        [-2.1674, -0.0685,  0.0157,  0.6758,  0.8981],\n",
       "        [-1.2602, -0.0887,  0.2340,  0.6651,  0.3025],\n",
       "        [-1.3071, -0.2553,  0.3385,  0.3724,  0.7248],\n",
       "        [-1.1613, -0.2337, -0.0757, -0.0931,  0.1262],\n",
       "        [-1.2995, -0.4762,  0.7583,  0.3769,  0.1841],\n",
       "        [-1.4604, -0.1231, -0.0080, -0.1909,  0.2397],\n",
       "        [-1.1260, -0.2564,  0.1153,  0.2298,  0.1452],\n",
       "        [-1.6675, -0.3115,  0.0554,  0.3911,  0.5204],\n",
       "        [-1.4139,  0.2956, -0.9448,  0.3024,  0.4387],\n",
       "        [-1.1208, -0.5912,  0.2748,  0.0924,  0.4877],\n",
       "        [-2.2688, -0.3634,  0.1683, -0.1805,  0.4703],\n",
       "        [-0.5679,  0.0490,  0.2596,  0.1235,  0.5534],\n",
       "        [-1.6871, -0.3260, -0.2862,  0.0409,  0.5899],\n",
       "        [-1.2976, -0.7114,  0.1236,  0.1554,  0.9737],\n",
       "        [-0.4523, -0.1203,  0.0992,  0.0725,  0.0559],\n",
       "        [-1.5675,  0.2542,  0.4208, -0.1330,  0.6043],\n",
       "        [-1.2223,  0.1423,  0.1659,  0.2065,  0.9110],\n",
       "        [-0.6003, -0.0042,  0.4721,  0.1464, -0.4146],\n",
       "        [-1.2265,  0.2601,  0.2686, -0.1621,  0.3942],\n",
       "        [-1.4317, -0.5405, -0.0808,  0.3992,  0.3967],\n",
       "        [-1.1297, -0.0716,  0.1614,  0.4657,  0.2638],\n",
       "        [-0.8573, -0.7349,  0.1685,  0.3900,  0.1974],\n",
       "        [-2.0689, -0.2506, -0.3071, -0.2076,  0.5693],\n",
       "        [-1.0043, -0.3469, -0.0464,  0.2357,  0.7359],\n",
       "        [-1.1784, -0.4238,  0.1855,  0.4223,  0.5286],\n",
       "        [-0.8046,  0.2192,  0.4003,  0.0720,  0.3025],\n",
       "        [-1.1576, -0.1474, -0.0065,  0.2836,  0.2062],\n",
       "        [-0.7605,  0.0611,  0.3535, -0.0443, -0.0273],\n",
       "        [-0.9540, -0.3154, -0.0278,  0.1030,  0.2876],\n",
       "        [-1.6437, -0.3038,  0.1406,  0.4712,  0.0228],\n",
       "        [-1.0313, -0.6168,  0.1319,  0.2006, -0.5295],\n",
       "        [-0.8749,  0.0522,  0.4196, -0.1867,  0.3413],\n",
       "        [-1.7384,  0.0205, -0.0892,  0.6793,  0.7406],\n",
       "        [-1.5408, -0.0054, -0.0107,  0.5558,  0.7279],\n",
       "        [-1.0702, -0.2833,  0.0288,  0.1072,  0.2874],\n",
       "        [-1.5522,  0.2053, -0.0362, -0.3512,  0.5131],\n",
       "        [-1.3853,  0.1046,  0.5712,  0.5116,  0.4794],\n",
       "        [-1.6147, -0.0299,  0.3297,  0.2760,  0.9199],\n",
       "        [-1.1047,  0.0424,  0.2506,  0.0616,  0.5817],\n",
       "        [-0.8890, -0.3061, -0.0206,  0.1093,  0.5680],\n",
       "        [-1.3371, -0.3159, -0.5163,  0.2761,  0.8158],\n",
       "        [-1.0590, -0.1081, -0.0503, -0.0266,  0.5875],\n",
       "        [-1.8080, -0.3236, -0.0871,  0.1793,  0.6183],\n",
       "        [-1.6300, -0.3311,  0.4557, -0.1661,  0.5887],\n",
       "        [-2.0880, -0.3968,  0.0615, -0.3927,  0.7476],\n",
       "        [-0.9437,  0.0136,  0.4889,  0.1976,  0.3282],\n",
       "        [-1.3036, -0.5129,  0.0470, -0.0594,  0.8197],\n",
       "        [-1.1123, -0.0933,  0.4173,  0.1962,  0.4940],\n",
       "        [-1.0905, -0.0248,  0.3080, -0.1243,  0.5365],\n",
       "        [-1.2712, -0.1521,  0.1898,  0.1782,  0.4725],\n",
       "        [-1.1041, -0.0539,  0.0341,  0.0867,  0.4250],\n",
       "        [-1.2909, -0.7101,  0.5513,  0.2545,  0.2198],\n",
       "        [-2.3684, -0.2332, -0.2898,  0.1413,  0.9383],\n",
       "        [-1.3428, -0.1150,  0.1252,  0.1589,  0.3147],\n",
       "        [-1.5041, -0.1455,  0.2968,  0.1761,  0.4129],\n",
       "        [-1.2720,  0.0053, -0.4496, -0.1362,  0.2243],\n",
       "        [-1.4629, -0.6742,  0.5210, -0.4320,  0.6706],\n",
       "        [-0.7656, -0.1700,  0.3606, -0.0601,  0.0674],\n",
       "        [-1.2426, -0.2866, -0.0749, -0.0798,  0.1011]],\n",
       "       grad_fn=<AddmmBackward>)"
      ]
     },
     "execution_count": 14,
     "metadata": {},
     "output_type": "execute_result"
    }
   ],
   "source": [
    "outputs"
   ]
  },
  {
   "cell_type": "code",
   "execution_count": 183,
   "metadata": {},
   "outputs": [
    {
     "data": {
      "text/plain": [
       "tensor([[0., 0., 0., 0., 0.],\n",
       "        [0., 0., 0., 0., 0.],\n",
       "        [0., 0., 0., 0., 0.],\n",
       "        [0., 1., 0., 1., 1.],\n",
       "        [0., 0., 0., 0., 0.],\n",
       "        [0., 0., 0., 0., 0.],\n",
       "        [0., 0., 0., 0., 0.],\n",
       "        [0., 0., 0., 0., 0.],\n",
       "        [0., 1., 0., 1., 0.],\n",
       "        [0., 1., 0., 0., 0.],\n",
       "        [0., 0., 0., 0., 1.],\n",
       "        [1., 0., 1., 0., 0.],\n",
       "        [0., 1., 0., 0., 0.],\n",
       "        [1., 0., 0., 1., 1.],\n",
       "        [0., 0., 0., 0., 1.],\n",
       "        [0., 0., 0., 0., 0.],\n",
       "        [0., 0., 0., 1., 0.],\n",
       "        [0., 0., 0., 0., 1.],\n",
       "        [1., 0., 0., 0., 0.],\n",
       "        [0., 0., 0., 0., 0.],\n",
       "        [0., 0., 0., 0., 0.],\n",
       "        [1., 0., 0., 0., 1.],\n",
       "        [0., 0., 0., 0., 0.],\n",
       "        [0., 0., 0., 0., 0.],\n",
       "        [0., 0., 0., 0., 0.],\n",
       "        [0., 0., 0., 0., 1.],\n",
       "        [0., 0., 0., 1., 1.],\n",
       "        [0., 0., 0., 0., 1.],\n",
       "        [0., 0., 0., 1., 1.],\n",
       "        [0., 1., 0., 1., 1.],\n",
       "        [0., 0., 0., 0., 0.],\n",
       "        [1., 0., 1., 0., 0.],\n",
       "        [0., 0., 0., 1., 1.],\n",
       "        [0., 1., 0., 1., 0.],\n",
       "        [0., 0., 0., 0., 0.],\n",
       "        [0., 0., 0., 0., 0.],\n",
       "        [1., 1., 0., 0., 1.],\n",
       "        [0., 0., 0., 0., 0.],\n",
       "        [1., 0., 0., 1., 1.],\n",
       "        [0., 1., 0., 1., 0.],\n",
       "        [0., 0., 0., 0., 0.],\n",
       "        [0., 0., 1., 0., 0.],\n",
       "        [0., 0., 0., 0., 0.],\n",
       "        [0., 0., 0., 0., 0.],\n",
       "        [0., 0., 0., 0., 0.],\n",
       "        [0., 0., 1., 0., 1.],\n",
       "        [0., 0., 0., 0., 1.],\n",
       "        [0., 0., 0., 0., 0.],\n",
       "        [0., 0., 0., 0., 0.],\n",
       "        [1., 0., 0., 0., 0.],\n",
       "        [0., 0., 0., 0., 0.],\n",
       "        [0., 0., 0., 0., 1.],\n",
       "        [0., 0., 0., 0., 1.],\n",
       "        [0., 0., 0., 0., 0.],\n",
       "        [0., 0., 0., 0., 1.],\n",
       "        [0., 0., 0., 0., 0.],\n",
       "        [0., 1., 0., 0., 0.],\n",
       "        [0., 0., 0., 0., 1.],\n",
       "        [1., 0., 0., 0., 0.],\n",
       "        [0., 0., 0., 0., 0.],\n",
       "        [0., 0., 0., 0., 0.],\n",
       "        [0., 0., 0., 0., 0.],\n",
       "        [0., 0., 0., 0., 1.],\n",
       "        [0., 1., 0., 1., 0.]])"
      ]
     },
     "execution_count": 183,
     "metadata": {},
     "output_type": "execute_result"
    }
   ],
   "source": [
    "labels.data"
   ]
  },
  {
   "cell_type": "code",
   "execution_count": 3,
   "metadata": {
    "collapsed": true
   },
   "outputs": [],
   "source": [
    "data = pd.read_csv(chx.TRAIN_CSV)"
   ]
  },
  {
   "cell_type": "code",
   "execution_count": 6,
   "metadata": {},
   "outputs": [
    {
     "data": {
      "text/html": [
       "<div>\n",
       "<style scoped>\n",
       "    .dataframe tbody tr th:only-of-type {\n",
       "        vertical-align: middle;\n",
       "    }\n",
       "\n",
       "    .dataframe tbody tr th {\n",
       "        vertical-align: top;\n",
       "    }\n",
       "\n",
       "    .dataframe thead th {\n",
       "        text-align: right;\n",
       "    }\n",
       "</style>\n",
       "<table border=\"1\" class=\"dataframe\">\n",
       "  <thead>\n",
       "    <tr style=\"text-align: right;\">\n",
       "      <th></th>\n",
       "      <th>Path</th>\n",
       "      <th>Sex</th>\n",
       "      <th>Age</th>\n",
       "      <th>Frontal/Lateral</th>\n",
       "      <th>AP/PA</th>\n",
       "      <th>No Finding</th>\n",
       "      <th>Enlarged Cardiomediastinum</th>\n",
       "      <th>Cardiomegaly</th>\n",
       "      <th>Lung Opacity</th>\n",
       "      <th>Lung Lesion</th>\n",
       "      <th>Edema</th>\n",
       "      <th>Consolidation</th>\n",
       "      <th>Pneumonia</th>\n",
       "      <th>Atelectasis</th>\n",
       "      <th>Pneumothorax</th>\n",
       "      <th>Pleural Effusion</th>\n",
       "      <th>Pleural Other</th>\n",
       "      <th>Fracture</th>\n",
       "      <th>Support Devices</th>\n",
       "    </tr>\n",
       "  </thead>\n",
       "  <tbody>\n",
       "    <tr>\n",
       "      <th>0</th>\n",
       "      <td>CheXpert-v1.0-small/train/patient00001/study1/...</td>\n",
       "      <td>Female</td>\n",
       "      <td>68</td>\n",
       "      <td>Frontal</td>\n",
       "      <td>AP</td>\n",
       "      <td>1.0</td>\n",
       "      <td>NaN</td>\n",
       "      <td>NaN</td>\n",
       "      <td>NaN</td>\n",
       "      <td>NaN</td>\n",
       "      <td>NaN</td>\n",
       "      <td>NaN</td>\n",
       "      <td>NaN</td>\n",
       "      <td>NaN</td>\n",
       "      <td>0.0</td>\n",
       "      <td>NaN</td>\n",
       "      <td>NaN</td>\n",
       "      <td>NaN</td>\n",
       "      <td>1.0</td>\n",
       "    </tr>\n",
       "    <tr>\n",
       "      <th>1</th>\n",
       "      <td>CheXpert-v1.0-small/train/patient00002/study2/...</td>\n",
       "      <td>Female</td>\n",
       "      <td>87</td>\n",
       "      <td>Frontal</td>\n",
       "      <td>AP</td>\n",
       "      <td>NaN</td>\n",
       "      <td>NaN</td>\n",
       "      <td>-1.0</td>\n",
       "      <td>1.0</td>\n",
       "      <td>NaN</td>\n",
       "      <td>-1.0</td>\n",
       "      <td>-1.0</td>\n",
       "      <td>NaN</td>\n",
       "      <td>-1.0</td>\n",
       "      <td>NaN</td>\n",
       "      <td>-1.0</td>\n",
       "      <td>NaN</td>\n",
       "      <td>1.0</td>\n",
       "      <td>NaN</td>\n",
       "    </tr>\n",
       "    <tr>\n",
       "      <th>2</th>\n",
       "      <td>CheXpert-v1.0-small/train/patient00002/study1/...</td>\n",
       "      <td>Female</td>\n",
       "      <td>83</td>\n",
       "      <td>Frontal</td>\n",
       "      <td>AP</td>\n",
       "      <td>NaN</td>\n",
       "      <td>NaN</td>\n",
       "      <td>NaN</td>\n",
       "      <td>1.0</td>\n",
       "      <td>NaN</td>\n",
       "      <td>NaN</td>\n",
       "      <td>-1.0</td>\n",
       "      <td>NaN</td>\n",
       "      <td>NaN</td>\n",
       "      <td>NaN</td>\n",
       "      <td>NaN</td>\n",
       "      <td>NaN</td>\n",
       "      <td>1.0</td>\n",
       "      <td>NaN</td>\n",
       "    </tr>\n",
       "    <tr>\n",
       "      <th>3</th>\n",
       "      <td>CheXpert-v1.0-small/train/patient00002/study1/...</td>\n",
       "      <td>Female</td>\n",
       "      <td>83</td>\n",
       "      <td>Lateral</td>\n",
       "      <td>NaN</td>\n",
       "      <td>NaN</td>\n",
       "      <td>NaN</td>\n",
       "      <td>NaN</td>\n",
       "      <td>1.0</td>\n",
       "      <td>NaN</td>\n",
       "      <td>NaN</td>\n",
       "      <td>-1.0</td>\n",
       "      <td>NaN</td>\n",
       "      <td>NaN</td>\n",
       "      <td>NaN</td>\n",
       "      <td>NaN</td>\n",
       "      <td>NaN</td>\n",
       "      <td>1.0</td>\n",
       "      <td>NaN</td>\n",
       "    </tr>\n",
       "    <tr>\n",
       "      <th>4</th>\n",
       "      <td>CheXpert-v1.0-small/train/patient00003/study1/...</td>\n",
       "      <td>Male</td>\n",
       "      <td>41</td>\n",
       "      <td>Frontal</td>\n",
       "      <td>AP</td>\n",
       "      <td>NaN</td>\n",
       "      <td>NaN</td>\n",
       "      <td>NaN</td>\n",
       "      <td>NaN</td>\n",
       "      <td>NaN</td>\n",
       "      <td>1.0</td>\n",
       "      <td>NaN</td>\n",
       "      <td>NaN</td>\n",
       "      <td>NaN</td>\n",
       "      <td>0.0</td>\n",
       "      <td>NaN</td>\n",
       "      <td>NaN</td>\n",
       "      <td>NaN</td>\n",
       "      <td>NaN</td>\n",
       "    </tr>\n",
       "  </tbody>\n",
       "</table>\n",
       "</div>"
      ],
      "text/plain": [
       "                                                Path     Sex  Age  \\\n",
       "0  CheXpert-v1.0-small/train/patient00001/study1/...  Female   68   \n",
       "1  CheXpert-v1.0-small/train/patient00002/study2/...  Female   87   \n",
       "2  CheXpert-v1.0-small/train/patient00002/study1/...  Female   83   \n",
       "3  CheXpert-v1.0-small/train/patient00002/study1/...  Female   83   \n",
       "4  CheXpert-v1.0-small/train/patient00003/study1/...    Male   41   \n",
       "\n",
       "  Frontal/Lateral AP/PA  No Finding  Enlarged Cardiomediastinum  Cardiomegaly  \\\n",
       "0         Frontal    AP         1.0                         NaN           NaN   \n",
       "1         Frontal    AP         NaN                         NaN          -1.0   \n",
       "2         Frontal    AP         NaN                         NaN           NaN   \n",
       "3         Lateral   NaN         NaN                         NaN           NaN   \n",
       "4         Frontal    AP         NaN                         NaN           NaN   \n",
       "\n",
       "   Lung Opacity  Lung Lesion  Edema  Consolidation  Pneumonia  Atelectasis  \\\n",
       "0           NaN          NaN    NaN            NaN        NaN          NaN   \n",
       "1           1.0          NaN   -1.0           -1.0        NaN         -1.0   \n",
       "2           1.0          NaN    NaN           -1.0        NaN          NaN   \n",
       "3           1.0          NaN    NaN           -1.0        NaN          NaN   \n",
       "4           NaN          NaN    1.0            NaN        NaN          NaN   \n",
       "\n",
       "   Pneumothorax  Pleural Effusion  Pleural Other  Fracture  Support Devices  \n",
       "0           0.0               NaN            NaN       NaN              1.0  \n",
       "1           NaN              -1.0            NaN       1.0              NaN  \n",
       "2           NaN               NaN            NaN       1.0              NaN  \n",
       "3           NaN               NaN            NaN       1.0              NaN  \n",
       "4           0.0               NaN            NaN       NaN              NaN  "
      ]
     },
     "execution_count": 6,
     "metadata": {},
     "output_type": "execute_result"
    }
   ],
   "source": [
    "data.head()"
   ]
  },
  {
   "cell_type": "code",
   "execution_count": 15,
   "metadata": {},
   "outputs": [
    {
     "data": {
      "text/plain": [
       "tensor([[0.2074, 0.4690, 0.5007, 0.5714, 0.4877],\n",
       "        [0.2290, 0.4698, 0.5114, 0.4659, 0.6447],\n",
       "        [0.1782, 0.4391, 0.4746, 0.6254, 0.6169],\n",
       "        [0.1561, 0.4658, 0.4903, 0.6738, 0.6800],\n",
       "        [0.2346, 0.4461, 0.5509, 0.5255, 0.5439],\n",
       "        [0.1027, 0.4829, 0.5039, 0.6628, 0.7106],\n",
       "        [0.2209, 0.4779, 0.5582, 0.6604, 0.5750],\n",
       "        [0.2130, 0.4365, 0.5838, 0.5920, 0.6737],\n",
       "        [0.2384, 0.4418, 0.4811, 0.4767, 0.5315],\n",
       "        [0.2143, 0.3831, 0.6810, 0.5931, 0.5459],\n",
       "        [0.1884, 0.4693, 0.4980, 0.4524, 0.5596],\n",
       "        [0.2449, 0.4363, 0.5288, 0.5572, 0.5362],\n",
       "        [0.1588, 0.4228, 0.5138, 0.5965, 0.6272],\n",
       "        [0.1956, 0.5734, 0.2799, 0.5750, 0.6080],\n",
       "        [0.2459, 0.3563, 0.5683, 0.5231, 0.6196],\n",
       "        [0.0937, 0.4101, 0.5420, 0.4550, 0.6155],\n",
       "        [0.3617, 0.5123, 0.5645, 0.5308, 0.6349],\n",
       "        [0.1562, 0.4192, 0.4289, 0.5102, 0.6433],\n",
       "        [0.2146, 0.3293, 0.5309, 0.5388, 0.7259],\n",
       "        [0.3888, 0.4700, 0.5248, 0.5181, 0.5140],\n",
       "        [0.1726, 0.5632, 0.6037, 0.4668, 0.6466],\n",
       "        [0.2275, 0.5355, 0.5414, 0.5514, 0.7132],\n",
       "        [0.3543, 0.4989, 0.6159, 0.5365, 0.3978],\n",
       "        [0.2268, 0.5647, 0.5667, 0.4596, 0.5973],\n",
       "        [0.1928, 0.3681, 0.4798, 0.5985, 0.5979],\n",
       "        [0.2442, 0.4821, 0.5403, 0.6144, 0.5656],\n",
       "        [0.2979, 0.3241, 0.5420, 0.5963, 0.5492],\n",
       "        [0.1122, 0.4377, 0.4238, 0.4483, 0.6386],\n",
       "        [0.2681, 0.4141, 0.4884, 0.5586, 0.6761],\n",
       "        [0.2353, 0.3956, 0.5463, 0.6040, 0.6291],\n",
       "        [0.3090, 0.5546, 0.5988, 0.5180, 0.5751],\n",
       "        [0.2391, 0.4632, 0.4984, 0.5704, 0.5514],\n",
       "        [0.3185, 0.5153, 0.5875, 0.4889, 0.4932],\n",
       "        [0.2781, 0.4218, 0.4931, 0.5257, 0.5714],\n",
       "        [0.1620, 0.4246, 0.5351, 0.6157, 0.5057],\n",
       "        [0.2628, 0.3505, 0.5329, 0.5500, 0.3706],\n",
       "        [0.2942, 0.5131, 0.6034, 0.4535, 0.5845],\n",
       "        [0.1495, 0.5051, 0.4777, 0.6636, 0.6771],\n",
       "        [0.1764, 0.4987, 0.4973, 0.6355, 0.6743],\n",
       "        [0.2554, 0.4296, 0.5072, 0.5268, 0.5714],\n",
       "        [0.1748, 0.5512, 0.4910, 0.4131, 0.6255],\n",
       "        [0.2002, 0.5261, 0.6390, 0.6252, 0.6176],\n",
       "        [0.1659, 0.4925, 0.5817, 0.5686, 0.7150],\n",
       "        [0.2489, 0.5106, 0.5623, 0.5154, 0.6415],\n",
       "        [0.2913, 0.4241, 0.4948, 0.5273, 0.6383],\n",
       "        [0.2080, 0.4217, 0.3737, 0.5686, 0.6934],\n",
       "        [0.2575, 0.4730, 0.4874, 0.4933, 0.6428],\n",
       "        [0.1409, 0.4198, 0.4782, 0.5447, 0.6498],\n",
       "        [0.1638, 0.4180, 0.6120, 0.4586, 0.6431],\n",
       "        [0.1103, 0.4021, 0.5154, 0.4031, 0.6787],\n",
       "        [0.2801, 0.5034, 0.6199, 0.5492, 0.5813],\n",
       "        [0.2136, 0.3745, 0.5118, 0.4851, 0.6942],\n",
       "        [0.2474, 0.4767, 0.6028, 0.5489, 0.6211],\n",
       "        [0.2515, 0.4938, 0.5764, 0.4690, 0.6310],\n",
       "        [0.2190, 0.4620, 0.5473, 0.5444, 0.6160],\n",
       "        [0.2490, 0.4865, 0.5085, 0.5217, 0.6047],\n",
       "        [0.2157, 0.3296, 0.6344, 0.5633, 0.5547],\n",
       "        [0.0856, 0.4420, 0.4281, 0.5353, 0.7188],\n",
       "        [0.2071, 0.4713, 0.5313, 0.5396, 0.5780],\n",
       "        [0.1818, 0.4637, 0.5737, 0.5439, 0.6018],\n",
       "        [0.2189, 0.5013, 0.3894, 0.4660, 0.5558],\n",
       "        [0.1880, 0.3376, 0.6274, 0.3937, 0.6616],\n",
       "        [0.3174, 0.4576, 0.5892, 0.4850, 0.5168],\n",
       "        [0.2240, 0.4288, 0.4813, 0.4801, 0.5253]], grad_fn=<SigmoidBackward>)"
      ]
     },
     "execution_count": 15,
     "metadata": {},
     "output_type": "execute_result"
    }
   ],
   "source": [
    "torch.sigmoid(outputs)"
   ]
  },
  {
   "cell_type": "code",
   "execution_count": 37,
   "metadata": {},
   "outputs": [
    {
     "data": {
      "text/plain": [
       "0.4483598189298289"
      ]
     },
     "execution_count": 37,
     "metadata": {},
     "output_type": "execute_result"
    }
   ],
   "source": [
    "mt.roc_auc_score(labels.data.numpy(), torch.sigmoid(outputs.detach()).cpu().numpy())"
   ]
  },
  {
   "cell_type": "code",
   "execution_count": 36,
   "metadata": {},
   "outputs": [
    {
     "data": {
      "text/plain": [
       "0.4483598189298289"
      ]
     },
     "execution_count": 36,
     "metadata": {},
     "output_type": "execute_result"
    }
   ],
   "source": [
    "auc = 0\n",
    "for i in range(5):\n",
    "    auc = auc + mt.roc_auc_score(labels.data.numpy()[:, i], torch.sigmoid(outputs.detach()).cpu().numpy()[:, i])\n",
    "auc / 5"
   ]
  },
  {
   "cell_type": "code",
   "execution_count": 39,
   "metadata": {},
   "outputs": [
    {
     "data": {
      "text/plain": [
       "array([[0., 0., 0., 0., 0.],\n",
       "       [0., 0., 0., 0., 0.],\n",
       "       [0., 0., 0., 0., 0.]])"
      ]
     },
     "execution_count": 39,
     "metadata": {},
     "output_type": "execute_result"
    }
   ],
   "source": [
    "a = np.zeros((3, 5))\n",
    "a"
   ]
  },
  {
   "cell_type": "code",
   "execution_count": 43,
   "metadata": {},
   "outputs": [
    {
     "data": {
      "text/plain": [
       "array([[0., 0., 0., 0., 0.],\n",
       "       [0., 0., 0., 0., 0.],\n",
       "       [0., 0., 0., 0., 0.],\n",
       "       [1., 1., 1., 1., 1.],\n",
       "       [1., 1., 1., 1., 1.]])"
      ]
     },
     "execution_count": 43,
     "metadata": {},
     "output_type": "execute_result"
    }
   ],
   "source": [
    "np.vstack((a, np.ones((2, 5))))"
   ]
  },
  {
   "cell_type": "code",
   "execution_count": 44,
   "metadata": {},
   "outputs": [
    {
     "ename": "TypeError",
     "evalue": "Required argument 'object' (pos 1) not found",
     "output_type": "error",
     "traceback": [
      "\u001b[0;31m---------------------------------------------------------------------------\u001b[0m",
      "\u001b[0;31mTypeError\u001b[0m                                 Traceback (most recent call last)",
      "\u001b[0;32m<ipython-input-44-e82994c6a167>\u001b[0m in \u001b[0;36m<module>\u001b[0;34m()\u001b[0m\n\u001b[0;32m----> 1\u001b[0;31m \u001b[0ma\u001b[0m \u001b[0;34m=\u001b[0m \u001b[0mnp\u001b[0m\u001b[0;34m.\u001b[0m\u001b[0marray\u001b[0m\u001b[0;34m(\u001b[0m\u001b[0;34m)\u001b[0m\u001b[0;34m\u001b[0m\u001b[0m\n\u001b[0m",
      "\u001b[0;31mTypeError\u001b[0m: Required argument 'object' (pos 1) not found"
     ]
    }
   ],
   "source": [
    "a = np.array()"
   ]
  },
  {
   "cell_type": "code",
   "execution_count": 45,
   "metadata": {
    "collapsed": true
   },
   "outputs": [],
   "source": [
    "z = np.zeros((5, 5))"
   ]
  },
  {
   "cell_type": "code",
   "execution_count": 46,
   "metadata": {},
   "outputs": [
    {
     "data": {
      "text/plain": [
       "array([[0., 0., 0., 0., 0.],\n",
       "       [0., 0., 0., 0., 0.],\n",
       "       [0., 0., 0., 0., 0.],\n",
       "       [0., 0., 0., 0., 0.],\n",
       "       [0., 0., 0., 0., 0.]])"
      ]
     },
     "execution_count": 46,
     "metadata": {},
     "output_type": "execute_result"
    }
   ],
   "source": [
    "z"
   ]
  },
  {
   "cell_type": "code",
   "execution_count": 47,
   "metadata": {
    "collapsed": true
   },
   "outputs": [],
   "source": [
    "z[:3] = np.ones((3, 5))"
   ]
  },
  {
   "cell_type": "code",
   "execution_count": 48,
   "metadata": {},
   "outputs": [
    {
     "data": {
      "text/plain": [
       "array([[1., 1., 1., 1., 1.],\n",
       "       [1., 1., 1., 1., 1.],\n",
       "       [1., 1., 1., 1., 1.],\n",
       "       [0., 0., 0., 0., 0.],\n",
       "       [0., 0., 0., 0., 0.]])"
      ]
     },
     "execution_count": 48,
     "metadata": {},
     "output_type": "execute_result"
    }
   ],
   "source": [
    "z"
   ]
  },
  {
   "cell_type": "code",
   "execution_count": 52,
   "metadata": {},
   "outputs": [],
   "source": [
    "z[3:] = np.random.randn(2, 5)"
   ]
  },
  {
   "cell_type": "code",
   "execution_count": 53,
   "metadata": {},
   "outputs": [
    {
     "data": {
      "text/plain": [
       "array([[ 1.        ,  1.        ,  1.        ,  1.        ,  1.        ],\n",
       "       [ 1.        ,  1.        ,  1.        ,  1.        ,  1.        ],\n",
       "       [ 1.        ,  1.        ,  1.        ,  1.        ,  1.        ],\n",
       "       [-0.87677682, -0.32912366,  2.40084686, -0.53751465, -1.12068897],\n",
       "       [ 0.04984101,  0.38449303,  1.03283083, -0.82612977, -0.76861185]])"
      ]
     },
     "execution_count": 53,
     "metadata": {},
     "output_type": "execute_result"
    }
   ],
   "source": [
    "z"
   ]
  },
  {
   "cell_type": "code",
   "execution_count": 64,
   "metadata": {},
   "outputs": [
    {
     "data": {
      "text/plain": [
       "234"
      ]
     },
     "execution_count": 64,
     "metadata": {},
     "output_type": "execute_result"
    }
   ],
   "source": [
    "len(chx.get_loader(chx.get_dataset('val')).dataset)"
   ]
  },
  {
   "cell_type": "code",
   "execution_count": 73,
   "metadata": {},
   "outputs": [
    {
     "data": {
      "text/plain": [
       "(array([[0.52143323, 0.43433616, 0.4848245 , 0.43860155, 0.43296194],\n",
       "        [0.4951431 , 0.42846817, 0.3738751 , 0.32293898, 0.5169839 ],\n",
       "        [0.5071329 , 0.3970112 , 0.3356376 , 0.40970308, 0.5206939 ],\n",
       "        ...,\n",
       "        [0.4308492 , 0.43962047, 0.2402116 , 0.27081925, 0.51868653],\n",
       "        [0.38787892, 0.43427956, 0.40130597, 0.26635337, 0.5520994 ],\n",
       "        [0.3880672 , 0.4608953 , 0.34106833, 0.24546358, 0.49537733]],\n",
       "       dtype=float32), array([[1., 0., 0., 0., 1.],\n",
       "        [1., 1., 0., 0., 1.],\n",
       "        [1., 0., 0., 1., 0.],\n",
       "        ...,\n",
       "        [0., 1., 0., 0., 1.],\n",
       "        [0., 0., 0., 0., 0.],\n",
       "        [0., 1., 0., 1., 0.]], dtype=float32))"
      ]
     },
     "execution_count": 73,
     "metadata": {},
     "output_type": "execute_result"
    }
   ],
   "source": [
    "trainer.evaluate()"
   ]
  },
  {
   "cell_type": "code",
   "execution_count": 75,
   "metadata": {},
   "outputs": [],
   "source": [
    "y_pred, y_true = trainer.evaluate()"
   ]
  },
  {
   "cell_type": "code",
   "execution_count": 85,
   "metadata": {},
   "outputs": [],
   "source": [
    "fpr, tpr, th = mt.roc_curve(y_true[:, 0], y_pred[:, 0])"
   ]
  },
  {
   "cell_type": "code",
   "execution_count": 82,
   "metadata": {},
   "outputs": [
    {
     "data": {
      "text/plain": [
       "(234, 5)"
      ]
     },
     "execution_count": 82,
     "metadata": {},
     "output_type": "execute_result"
    }
   ],
   "source": [
    "y_true"
   ]
  },
  {
   "cell_type": "code",
   "execution_count": 87,
   "metadata": {},
   "outputs": [
    {
     "data": {
      "text/plain": [
       "0.5569805194805195"
      ]
     },
     "execution_count": 87,
     "metadata": {},
     "output_type": "execute_result"
    }
   ],
   "source": [
    "mt.auc(fpr, tpr)"
   ]
  },
  {
   "cell_type": "code",
   "execution_count": 88,
   "metadata": {},
   "outputs": [
    {
     "data": {
      "text/plain": [
       "0.5569805194805195"
      ]
     },
     "execution_count": 88,
     "metadata": {},
     "output_type": "execute_result"
    }
   ],
   "source": [
    "mt.roc_auc_score(y_true[:, 0], y_pred[:, 0])"
   ]
  },
  {
   "cell_type": "code",
   "execution_count": 94,
   "metadata": {},
   "outputs": [
    {
     "data": {
      "text/plain": [
       "<Figure size 432x288 with 0 Axes>"
      ]
     },
     "metadata": {},
     "output_type": "display_data"
    },
    {
     "data": {
      "image/png": "[encoded data removed]",
      "text/plain": [
       "<Figure size 432x288 with 1 Axes>"
      ]
     },
     "metadata": {},
     "output_type": "display_data"
    },
    {
     "data": {
      "image/png": "[encoded data removed]",
      "text/plain": [
       "<Figure size 432x288 with 1 Axes>"
      ]
     },
     "metadata": {},
     "output_type": "display_data"
    },
    {
     "data": {
      "image/png": "[encoded data removed]",
      "text/plain": [
       "<Figure size 432x288 with 1 Axes>"
      ]
     },
     "metadata": {},
     "output_type": "display_data"
    },
    {
     "data": {
      "image/png": "[encoded data removed]",
      "text/plain": [
       "<Figure size 432x288 with 1 Axes>"
      ]
     },
     "metadata": {},
     "output_type": "display_data"
    },
    {
     "data": {
      "image/png": "[encoded data removed]",
      "text/plain": [
       "<Figure size 432x288 with 1 Axes>"
      ]
     },
     "metadata": {},
     "output_type": "display_data"
    }
   ],
   "source": [
    "chx.plot_aucs(y_true, y_pred)"
   ]
  },
  {
   "cell_type": "code",
   "execution_count": null,
   "metadata": {
    "collapsed": true
   },
   "outputs": [],
   "source": [
    "plt.plot()"
   ]
  }
 ],
 "metadata": {
  "kernelspec": {
   "display_name": "Python 3",
   "language": "python",
   "name": "python3"
  },
  "language_info": {
   "codemirror_mode": {
    "name": "ipython",
    "version": 3
   },
   "file_extension": ".py",
   "mimetype": "text/x-python",
   "name": "python",
   "nbconvert_exporter": "python",
   "pygments_lexer": "ipython3",
   "version": "3.6.2"
  }
 },
 "nbformat": 4,
 "nbformat_minor": 2
}
